{
 "cells": [
  {
   "cell_type": "markdown",
   "metadata": {},
   "source": [
    "# Análisis exploratorio de datos (EDA)\n",
    "\n",
    "## Contenido\n",
    "\n",
    "1. Fuentes de datos\n",
    "2. Descripción de los datos\n",
    "3. Limpieza de datos\n",
    "4. Missing values\n",
    "5. Visualización de datos\n",
    "6. Referencias\n",
    "\n",
    "### 1. Fuentes de datos\n",
    "\n",
    "La fuente de datos de este trabajo es **estrucurada** en formato xls. Los datos son **privados** y se eliminó toda la información sensible por privacidad de los datos. Esta base de datos contiene información sobre rotación de personal de una empresa manufacturera de Tala, Jalisco. "
   ]
  },
  {
   "cell_type": "code",
   "execution_count": 58,
   "metadata": {},
   "outputs": [
    {
     "data": {
      "text/plain": [
       "RendererRegistry.enable('default')"
      ]
     },
     "execution_count": 58,
     "metadata": {},
     "output_type": "execute_result"
    }
   ],
   "source": [
    "# paquetes\n",
    "import pandas as pd\n",
    "import numpy as np\n",
    "import matplotlib.pyplot as plt\n",
    "import datetime\n",
    "\n",
    "import seaborn as sns\n",
    "import plotly.express as px\n",
    "import plotly.graph_objects as go\n",
    "from plotly.subplots import make_subplots\n",
    "import itertools\n",
    "import altair as alt\n",
    "alt.renderers.enable('default')\n",
    "\n",
    "# %matplotlib inline"
   ]
  },
  {
   "cell_type": "markdown",
   "metadata": {},
   "source": [
    "### 2. Descripción de los datos"
   ]
  },
  {
   "cell_type": "markdown",
   "metadata": {},
   "source": [
    "#### Revisión inicial de los datos originales"
   ]
  },
  {
   "cell_type": "code",
   "execution_count": 59,
   "metadata": {},
   "outputs": [],
   "source": [
    "# Load dataset\n",
    "\n",
    "ruta = r'C:\\Users\\luism\\OneDrive\\m_Tesis\\data_to.xlsx'\n",
    "df_0 = pd.read_excel(ruta)"
   ]
  },
  {
   "cell_type": "code",
   "execution_count": 60,
   "metadata": {},
   "outputs": [
    {
     "data": {
      "text/html": [
       "<div>\n",
       "<style scoped>\n",
       "    .dataframe tbody tr th:only-of-type {\n",
       "        vertical-align: middle;\n",
       "    }\n",
       "\n",
       "    .dataframe tbody tr th {\n",
       "        vertical-align: top;\n",
       "    }\n",
       "\n",
       "    .dataframe thead th {\n",
       "        text-align: right;\n",
       "    }\n",
       "</style>\n",
       "<table border=\"1\" class=\"dataframe\">\n",
       "  <thead>\n",
       "    <tr style=\"text-align: right;\">\n",
       "      <th></th>\n",
       "      <th>FECHA DE INGRESO</th>\n",
       "      <th>FECHA DE BAJA</th>\n",
       "      <th>Estatus</th>\n",
       "      <th>Días Laborados</th>\n",
       "      <th>FECHA DE NACIMIENTO</th>\n",
       "      <th>No de Crédito Infonavit</th>\n",
       "      <th>PUESTO</th>\n",
       "      <th>AREA</th>\n",
       "      <th>TURNO</th>\n",
       "      <th>MUNICIPIO</th>\n",
       "      <th>SALARIO DIARIO</th>\n",
       "      <th>SALARIO MENSUAL</th>\n",
       "      <th>ESCOLARIDAD</th>\n",
       "      <th>GENERO</th>\n",
       "      <th>Tipo de renuncia</th>\n",
       "      <th>Motivo de renuncia</th>\n",
       "    </tr>\n",
       "  </thead>\n",
       "  <tbody>\n",
       "    <tr>\n",
       "      <th>0</th>\n",
       "      <td>2023-11-21 00:00:00</td>\n",
       "      <td>22/11/2023</td>\n",
       "      <td>baja</td>\n",
       "      <td>1.0</td>\n",
       "      <td>1979-08-26</td>\n",
       "      <td>Si</td>\n",
       "      <td>OP PRODUCCION</td>\n",
       "      <td>PRODUCCION</td>\n",
       "      <td>C</td>\n",
       "      <td>TALA</td>\n",
       "      <td>250.0</td>\n",
       "      <td>7500.0</td>\n",
       "      <td>SECUNDARIA</td>\n",
       "      <td>FEMENINO</td>\n",
       "      <td>RENUNCIA VOLUNTARIA</td>\n",
       "      <td>SE LE COMPLICÓ EL HORARIO DEL TRANSPORTE PARA ...</td>\n",
       "    </tr>\n",
       "    <tr>\n",
       "      <th>1</th>\n",
       "      <td>2023-10-16 00:00:00</td>\n",
       "      <td>17/10/2023</td>\n",
       "      <td>baja</td>\n",
       "      <td>1.0</td>\n",
       "      <td>1993-09-02</td>\n",
       "      <td>NO</td>\n",
       "      <td>OP PRODUCCION</td>\n",
       "      <td>PRODUCCION</td>\n",
       "      <td>C</td>\n",
       "      <td>TALA</td>\n",
       "      <td>250.0</td>\n",
       "      <td>7500.0</td>\n",
       "      <td>SECUNDARIA_TRUNCA</td>\n",
       "      <td>FEMENINO</td>\n",
       "      <td>SEPARACION VOLUNTARIA</td>\n",
       "      <td>PROBLEMA PERSONAL</td>\n",
       "    </tr>\n",
       "    <tr>\n",
       "      <th>2</th>\n",
       "      <td>2022-02-21 00:00:00</td>\n",
       "      <td>22/02/2022</td>\n",
       "      <td>baja</td>\n",
       "      <td>1.0</td>\n",
       "      <td>1993-10-17</td>\n",
       "      <td>NO</td>\n",
       "      <td>OP PRODUCCION</td>\n",
       "      <td>PRODUCCION</td>\n",
       "      <td>C</td>\n",
       "      <td>TALA</td>\n",
       "      <td>200.0</td>\n",
       "      <td>6000.0</td>\n",
       "      <td>SECUNDARIA</td>\n",
       "      <td>FEMENINO</td>\n",
       "      <td>ABANDONO</td>\n",
       "      <td>SOLO ACUDIÓ A INDUCCION</td>\n",
       "    </tr>\n",
       "  </tbody>\n",
       "</table>\n",
       "</div>"
      ],
      "text/plain": [
       "      FECHA DE INGRESO FECHA DE BAJA Estatus  Días Laborados  \\\n",
       "0  2023-11-21 00:00:00    22/11/2023    baja             1.0   \n",
       "1  2023-10-16 00:00:00    17/10/2023    baja             1.0   \n",
       "2  2022-02-21 00:00:00    22/02/2022    baja             1.0   \n",
       "\n",
       "  FECHA DE NACIMIENTO No de Crédito Infonavit         PUESTO        AREA  \\\n",
       "0          1979-08-26                      Si  OP PRODUCCION  PRODUCCION   \n",
       "1          1993-09-02                      NO  OP PRODUCCION  PRODUCCION   \n",
       "2          1993-10-17                      NO  OP PRODUCCION  PRODUCCION   \n",
       "\n",
       "  TURNO MUNICIPIO  SALARIO DIARIO  SALARIO MENSUAL        ESCOLARIDAD  \\\n",
       "0     C      TALA           250.0           7500.0         SECUNDARIA   \n",
       "1     C      TALA           250.0           7500.0  SECUNDARIA_TRUNCA   \n",
       "2     C      TALA           200.0           6000.0         SECUNDARIA   \n",
       "\n",
       "     GENERO        Tipo de renuncia  \\\n",
       "0  FEMENINO     RENUNCIA VOLUNTARIA   \n",
       "1  FEMENINO  SEPARACION VOLUNTARIA    \n",
       "2  FEMENINO                ABANDONO   \n",
       "\n",
       "                                  Motivo de renuncia  \n",
       "0  SE LE COMPLICÓ EL HORARIO DEL TRANSPORTE PARA ...  \n",
       "1                                  PROBLEMA PERSONAL  \n",
       "2                            SOLO ACUDIÓ A INDUCCION  "
      ]
     },
     "execution_count": 60,
     "metadata": {},
     "output_type": "execute_result"
    }
   ],
   "source": [
    "# first view of the data\n",
    "\n",
    "df_0.head(3)"
   ]
  },
  {
   "cell_type": "code",
   "execution_count": 61,
   "metadata": {},
   "outputs": [
    {
     "data": {
      "text/html": [
       "<div>\n",
       "<style scoped>\n",
       "    .dataframe tbody tr th:only-of-type {\n",
       "        vertical-align: middle;\n",
       "    }\n",
       "\n",
       "    .dataframe tbody tr th {\n",
       "        vertical-align: top;\n",
       "    }\n",
       "\n",
       "    .dataframe thead th {\n",
       "        text-align: right;\n",
       "    }\n",
       "</style>\n",
       "<table border=\"1\" class=\"dataframe\">\n",
       "  <thead>\n",
       "    <tr style=\"text-align: right;\">\n",
       "      <th></th>\n",
       "      <th>FECHA DE INGRESO</th>\n",
       "      <th>FECHA DE BAJA</th>\n",
       "      <th>Estatus</th>\n",
       "      <th>Días Laborados</th>\n",
       "      <th>FECHA DE NACIMIENTO</th>\n",
       "      <th>No de Crédito Infonavit</th>\n",
       "      <th>PUESTO</th>\n",
       "      <th>AREA</th>\n",
       "      <th>TURNO</th>\n",
       "      <th>MUNICIPIO</th>\n",
       "      <th>SALARIO DIARIO</th>\n",
       "      <th>SALARIO MENSUAL</th>\n",
       "      <th>ESCOLARIDAD</th>\n",
       "      <th>GENERO</th>\n",
       "      <th>Tipo de renuncia</th>\n",
       "      <th>Motivo de renuncia</th>\n",
       "    </tr>\n",
       "  </thead>\n",
       "  <tbody>\n",
       "    <tr>\n",
       "      <th>499</th>\n",
       "      <td>13/12/2021</td>\n",
       "      <td>NaN</td>\n",
       "      <td>activo</td>\n",
       "      <td>NaN</td>\n",
       "      <td>NaT</td>\n",
       "      <td>NO</td>\n",
       "      <td>OP PRODUCCION</td>\n",
       "      <td>PRODUCCION</td>\n",
       "      <td>C</td>\n",
       "      <td>TALA</td>\n",
       "      <td>NaN</td>\n",
       "      <td>NaN</td>\n",
       "      <td>SIN_ESTUDIOS</td>\n",
       "      <td>FEMENINO</td>\n",
       "      <td>NaN</td>\n",
       "      <td>NaN</td>\n",
       "    </tr>\n",
       "    <tr>\n",
       "      <th>500</th>\n",
       "      <td>26/09/2022</td>\n",
       "      <td>NaN</td>\n",
       "      <td>activo</td>\n",
       "      <td>NaN</td>\n",
       "      <td>NaT</td>\n",
       "      <td>SI</td>\n",
       "      <td>OP PRODUCCION</td>\n",
       "      <td>PRODUCCION</td>\n",
       "      <td>A</td>\n",
       "      <td>TALA</td>\n",
       "      <td>NaN</td>\n",
       "      <td>NaN</td>\n",
       "      <td>SIN_ESTUDIOS</td>\n",
       "      <td>FEMENINO</td>\n",
       "      <td>NaN</td>\n",
       "      <td>NaN</td>\n",
       "    </tr>\n",
       "    <tr>\n",
       "      <th>501</th>\n",
       "      <td>2022-03-23 00:00:00</td>\n",
       "      <td>NaN</td>\n",
       "      <td>activo</td>\n",
       "      <td>NaN</td>\n",
       "      <td>NaT</td>\n",
       "      <td>NO</td>\n",
       "      <td>OP PRODUCCION</td>\n",
       "      <td>PRODUCCION</td>\n",
       "      <td>C</td>\n",
       "      <td>TALA</td>\n",
       "      <td>NaN</td>\n",
       "      <td>NaN</td>\n",
       "      <td>SIN_ESTUDIOS</td>\n",
       "      <td>MASCULINO</td>\n",
       "      <td>NaN</td>\n",
       "      <td>NaN</td>\n",
       "    </tr>\n",
       "  </tbody>\n",
       "</table>\n",
       "</div>"
      ],
      "text/plain": [
       "        FECHA DE INGRESO FECHA DE BAJA Estatus  Días Laborados  \\\n",
       "499           13/12/2021           NaN  activo             NaN   \n",
       "500           26/09/2022           NaN  activo             NaN   \n",
       "501  2022-03-23 00:00:00           NaN  activo             NaN   \n",
       "\n",
       "    FECHA DE NACIMIENTO No de Crédito Infonavit         PUESTO        AREA  \\\n",
       "499                 NaT                      NO  OP PRODUCCION  PRODUCCION   \n",
       "500                 NaT                      SI  OP PRODUCCION  PRODUCCION   \n",
       "501                 NaT                      NO  OP PRODUCCION  PRODUCCION   \n",
       "\n",
       "    TURNO MUNICIPIO  SALARIO DIARIO  SALARIO MENSUAL   ESCOLARIDAD     GENERO  \\\n",
       "499     C      TALA             NaN              NaN  SIN_ESTUDIOS   FEMENINO   \n",
       "500     A      TALA             NaN              NaN  SIN_ESTUDIOS   FEMENINO   \n",
       "501     C      TALA             NaN              NaN  SIN_ESTUDIOS  MASCULINO   \n",
       "\n",
       "    Tipo de renuncia Motivo de renuncia  \n",
       "499              NaN                NaN  \n",
       "500              NaN                NaN  \n",
       "501              NaN                NaN  "
      ]
     },
     "execution_count": 61,
     "metadata": {},
     "output_type": "execute_result"
    }
   ],
   "source": [
    "# First view of the data\n",
    "\n",
    "df_0.tail(3)"
   ]
  },
  {
   "cell_type": "code",
   "execution_count": 62,
   "metadata": {},
   "outputs": [],
   "source": [
    "#No changes needed\n",
    "\n",
    "df = df_0"
   ]
  },
  {
   "cell_type": "markdown",
   "metadata": {},
   "source": [
    "#### Descripción general de la base de datos"
   ]
  },
  {
   "cell_type": "code",
   "execution_count": 63,
   "metadata": {},
   "outputs": [
    {
     "data": {
      "text/plain": [
       "Index(['FECHA DE INGRESO', 'FECHA DE BAJA', 'Estatus', 'Días Laborados',\n",
       "       'FECHA DE NACIMIENTO', 'No de Crédito Infonavit', 'PUESTO', 'AREA',\n",
       "       'TURNO', 'MUNICIPIO', 'SALARIO DIARIO', 'SALARIO MENSUAL',\n",
       "       'ESCOLARIDAD', 'GENERO', 'Tipo de renuncia', 'Motivo de renuncia'],\n",
       "      dtype='object')"
      ]
     },
     "execution_count": 63,
     "metadata": {},
     "output_type": "execute_result"
    }
   ],
   "source": [
    "# Variables\n",
    "\n",
    "df.columns"
   ]
  },
  {
   "cell_type": "code",
   "execution_count": 64,
   "metadata": {},
   "outputs": [
    {
     "name": "stdout",
     "output_type": "stream",
     "text": [
      "<class 'pandas.core.frame.DataFrame'>\n",
      "RangeIndex: 502 entries, 0 to 501\n",
      "Data columns (total 16 columns):\n",
      " #   Column                   Non-Null Count  Dtype         \n",
      "---  ------                   --------------  -----         \n",
      " 0   FECHA DE INGRESO         502 non-null    object        \n",
      " 1   FECHA DE BAJA            431 non-null    object        \n",
      " 2   Estatus                  502 non-null    object        \n",
      " 3   Días Laborados           431 non-null    float64       \n",
      " 4   FECHA DE NACIMIENTO      288 non-null    datetime64[ns]\n",
      " 5   No de Crédito Infonavit  502 non-null    object        \n",
      " 6   PUESTO                   502 non-null    object        \n",
      " 7   AREA                     498 non-null    object        \n",
      " 8   TURNO                    502 non-null    object        \n",
      " 9   MUNICIPIO                502 non-null    object        \n",
      " 10  SALARIO DIARIO           288 non-null    float64       \n",
      " 11  SALARIO MENSUAL          288 non-null    float64       \n",
      " 12  ESCOLARIDAD              502 non-null    object        \n",
      " 13  GENERO                   502 non-null    object        \n",
      " 14  Tipo de renuncia         398 non-null    object        \n",
      " 15  Motivo de renuncia       446 non-null    object        \n",
      "dtypes: datetime64[ns](1), float64(3), object(12)\n",
      "memory usage: 62.9+ KB\n"
     ]
    }
   ],
   "source": [
    "# Información general\n",
    "\n",
    "df.info()"
   ]
  },
  {
   "cell_type": "code",
   "execution_count": 65,
   "metadata": {},
   "outputs": [
    {
     "name": "stderr",
     "output_type": "stream",
     "text": [
      "C:\\Users\\luism\\AppData\\Local\\Temp\\ipykernel_8832\\244686086.py:4: UserWarning: Parsing dates in %d/%m/%Y format when dayfirst=False (the default) was specified. Pass `dayfirst=True` or specify a format to silence this warning.\n",
      "  df['FECHA DE BAJA'] = pd.to_datetime(df['FECHA DE BAJA'], errors='coerce')\n"
     ]
    }
   ],
   "source": [
    "# Convertimos las columnas de fecha en fecha\n",
    "\n",
    "df['FECHA DE INGRESO'] = pd.to_datetime(df['FECHA DE INGRESO'], errors='coerce')\n",
    "df['FECHA DE BAJA'] = pd.to_datetime(df['FECHA DE BAJA'], errors='coerce')\n",
    "df['FECHA DE NACIMIENTO'] = pd.to_datetime(df['FECHA DE NACIMIENTO'], errors='coerce')\n",
    "\n",
    "# Convertir las columnas con texto a str\n",
    "\n",
    "columns_to_convert = [\n",
    "    'No de Crédito Infonavit', \n",
    "    'PUESTO', \n",
    "    'AREA', \n",
    "    'TURNO', \n",
    "    'MUNICIPIO', \n",
    "    'ESCOLARIDAD', \n",
    "    'GENERO', \n",
    "    'Tipo de renuncia', \n",
    "    'Motivo de renuncia'\n",
    "]\n",
    "\n",
    "# Rellenamos con NaN los espacios vacios y lo convertioms en str\n",
    "\n",
    "df[columns_to_convert] = df[columns_to_convert].fillna('').astype(str)\n"
   ]
  },
  {
   "cell_type": "code",
   "execution_count": 66,
   "metadata": {},
   "outputs": [
    {
     "name": "stdout",
     "output_type": "stream",
     "text": [
      "<class 'pandas.core.frame.DataFrame'>\n",
      "RangeIndex: 502 entries, 0 to 501\n",
      "Data columns (total 16 columns):\n",
      " #   Column                   Non-Null Count  Dtype         \n",
      "---  ------                   --------------  -----         \n",
      " 0   FECHA DE INGRESO         502 non-null    datetime64[ns]\n",
      " 1   FECHA DE BAJA            431 non-null    datetime64[ns]\n",
      " 2   Estatus                  502 non-null    object        \n",
      " 3   Días Laborados           431 non-null    float64       \n",
      " 4   FECHA DE NACIMIENTO      288 non-null    datetime64[ns]\n",
      " 5   No de Crédito Infonavit  502 non-null    object        \n",
      " 6   PUESTO                   502 non-null    object        \n",
      " 7   AREA                     502 non-null    object        \n",
      " 8   TURNO                    502 non-null    object        \n",
      " 9   MUNICIPIO                502 non-null    object        \n",
      " 10  SALARIO DIARIO           288 non-null    float64       \n",
      " 11  SALARIO MENSUAL          288 non-null    float64       \n",
      " 12  ESCOLARIDAD              502 non-null    object        \n",
      " 13  GENERO                   502 non-null    object        \n",
      " 14  Tipo de renuncia         502 non-null    object        \n",
      " 15  Motivo de renuncia       502 non-null    object        \n",
      "dtypes: datetime64[ns](3), float64(3), object(10)\n",
      "memory usage: 62.9+ KB\n"
     ]
    }
   ],
   "source": [
    "# Información general\n",
    "\n",
    "df.info()"
   ]
  },
  {
   "cell_type": "code",
   "execution_count": 67,
   "metadata": {},
   "outputs": [
    {
     "data": {
      "text/html": [
       "<div>\n",
       "<style scoped>\n",
       "    .dataframe tbody tr th:only-of-type {\n",
       "        vertical-align: middle;\n",
       "    }\n",
       "\n",
       "    .dataframe tbody tr th {\n",
       "        vertical-align: top;\n",
       "    }\n",
       "\n",
       "    .dataframe thead th {\n",
       "        text-align: right;\n",
       "    }\n",
       "</style>\n",
       "<table border=\"1\" class=\"dataframe\">\n",
       "  <thead>\n",
       "    <tr style=\"text-align: right;\">\n",
       "      <th></th>\n",
       "      <th>FECHA DE INGRESO</th>\n",
       "      <th>FECHA DE BAJA</th>\n",
       "      <th>Días Laborados</th>\n",
       "      <th>FECHA DE NACIMIENTO</th>\n",
       "      <th>SALARIO DIARIO</th>\n",
       "      <th>SALARIO MENSUAL</th>\n",
       "    </tr>\n",
       "  </thead>\n",
       "  <tbody>\n",
       "    <tr>\n",
       "      <th>count</th>\n",
       "      <td>502</td>\n",
       "      <td>431</td>\n",
       "      <td>431.000000</td>\n",
       "      <td>288</td>\n",
       "      <td>288.000000</td>\n",
       "      <td>288.000000</td>\n",
       "    </tr>\n",
       "    <tr>\n",
       "      <th>mean</th>\n",
       "      <td>2022-09-27 01:37:31.792828672</td>\n",
       "      <td>2022-11-08 15:45:31.322505728</td>\n",
       "      <td>63.763341</td>\n",
       "      <td>1991-02-12 20:30:00</td>\n",
       "      <td>258.789306</td>\n",
       "      <td>7705.711806</td>\n",
       "    </tr>\n",
       "    <tr>\n",
       "      <th>min</th>\n",
       "      <td>2021-04-20 00:00:00</td>\n",
       "      <td>2021-05-12 00:00:00</td>\n",
       "      <td>1.000000</td>\n",
       "      <td>1960-10-25 00:00:00</td>\n",
       "      <td>200.000000</td>\n",
       "      <td>1750.000000</td>\n",
       "    </tr>\n",
       "    <tr>\n",
       "      <th>25%</th>\n",
       "      <td>2022-02-11 12:00:00</td>\n",
       "      <td>2022-04-03 00:00:00</td>\n",
       "      <td>17.000000</td>\n",
       "      <td>1984-12-09 12:00:00</td>\n",
       "      <td>220.000000</td>\n",
       "      <td>6600.000000</td>\n",
       "    </tr>\n",
       "    <tr>\n",
       "      <th>50%</th>\n",
       "      <td>2022-09-01 12:00:00</td>\n",
       "      <td>2022-11-03 00:00:00</td>\n",
       "      <td>23.000000</td>\n",
       "      <td>1993-08-15 12:00:00</td>\n",
       "      <td>250.000000</td>\n",
       "      <td>7500.000000</td>\n",
       "    </tr>\n",
       "    <tr>\n",
       "      <th>75%</th>\n",
       "      <td>2023-03-21 00:00:00</td>\n",
       "      <td>2023-05-10 12:00:00</td>\n",
       "      <td>55.000000</td>\n",
       "      <td>1999-02-04 06:00:00</td>\n",
       "      <td>270.000000</td>\n",
       "      <td>8100.000000</td>\n",
       "    </tr>\n",
       "    <tr>\n",
       "      <th>max</th>\n",
       "      <td>2024-03-10 00:00:00</td>\n",
       "      <td>2024-04-01 00:00:00</td>\n",
       "      <td>608.000000</td>\n",
       "      <td>2022-05-28 00:00:00</td>\n",
       "      <td>600.000000</td>\n",
       "      <td>18000.000000</td>\n",
       "    </tr>\n",
       "    <tr>\n",
       "      <th>std</th>\n",
       "      <td>NaN</td>\n",
       "      <td>NaN</td>\n",
       "      <td>101.686887</td>\n",
       "      <td>NaN</td>\n",
       "      <td>64.303304</td>\n",
       "      <td>2028.051647</td>\n",
       "    </tr>\n",
       "  </tbody>\n",
       "</table>\n",
       "</div>"
      ],
      "text/plain": [
       "                    FECHA DE INGRESO                  FECHA DE BAJA  \\\n",
       "count                            502                            431   \n",
       "mean   2022-09-27 01:37:31.792828672  2022-11-08 15:45:31.322505728   \n",
       "min              2021-04-20 00:00:00            2021-05-12 00:00:00   \n",
       "25%              2022-02-11 12:00:00            2022-04-03 00:00:00   \n",
       "50%              2022-09-01 12:00:00            2022-11-03 00:00:00   \n",
       "75%              2023-03-21 00:00:00            2023-05-10 12:00:00   \n",
       "max              2024-03-10 00:00:00            2024-04-01 00:00:00   \n",
       "std                              NaN                            NaN   \n",
       "\n",
       "       Días Laborados  FECHA DE NACIMIENTO  SALARIO DIARIO  SALARIO MENSUAL  \n",
       "count      431.000000                  288      288.000000       288.000000  \n",
       "mean        63.763341  1991-02-12 20:30:00      258.789306      7705.711806  \n",
       "min          1.000000  1960-10-25 00:00:00      200.000000      1750.000000  \n",
       "25%         17.000000  1984-12-09 12:00:00      220.000000      6600.000000  \n",
       "50%         23.000000  1993-08-15 12:00:00      250.000000      7500.000000  \n",
       "75%         55.000000  1999-02-04 06:00:00      270.000000      8100.000000  \n",
       "max        608.000000  2022-05-28 00:00:00      600.000000     18000.000000  \n",
       "std        101.686887                  NaN       64.303304      2028.051647  "
      ]
     },
     "execution_count": 67,
     "metadata": {},
     "output_type": "execute_result"
    }
   ],
   "source": [
    "# Variables cuantitativas\n",
    "\n",
    "df.describe()"
   ]
  },
  {
   "cell_type": "code",
   "execution_count": 68,
   "metadata": {},
   "outputs": [
    {
     "data": {
      "text/plain": [
       "FECHA DE INGRESO           236\n",
       "FECHA DE BAJA              253\n",
       "Estatus                      2\n",
       "Días Laborados             134\n",
       "FECHA DE NACIMIENTO        277\n",
       "No de Crédito Infonavit      4\n",
       "PUESTO                       7\n",
       "AREA                         6\n",
       "TURNO                        4\n",
       "MUNICIPIO                   13\n",
       "SALARIO DIARIO              20\n",
       "SALARIO MENSUAL             22\n",
       "ESCOLARIDAD                 12\n",
       "GENERO                       2\n",
       "Tipo de renuncia            23\n",
       "Motivo de renuncia         204\n",
       "dtype: int64"
      ]
     },
     "execution_count": 68,
     "metadata": {},
     "output_type": "execute_result"
    }
   ],
   "source": [
    "# Número de términos únicos por varieble\n",
    "\n",
    "df.nunique()"
   ]
  },
  {
   "cell_type": "markdown",
   "metadata": {},
   "source": [
    "#### Descripción de variables"
   ]
  },
  {
   "cell_type": "code",
   "execution_count": 69,
   "metadata": {},
   "outputs": [
    {
     "name": "stdout",
     "output_type": "stream",
     "text": [
      "- El rango de la fecha de ingreso va desde 2021-04-20 00:00:00 hasta 2024-03-10 00:00:00.\n",
      "- El rango de la fecha de baja va desde 2021-05-12 00:00:00 hasta 2024-04-01 00:00:00.\n",
      "- El rango de la fecha de nacimiento va desde 1960-10-25 00:00:00 hasta 2022-05-28 00:00:00.\n"
     ]
    }
   ],
   "source": [
    "# Fechas\n",
    "\n",
    "print(\"- El rango de la fecha de ingreso va desde {0} hasta {1}.\".format(df['FECHA DE INGRESO'].unique().min(), df['FECHA DE INGRESO'].unique().max()))\n",
    "print(\"- El rango de la fecha de baja va desde {0} hasta {1}.\".format(df['FECHA DE BAJA'].unique().min(), df['FECHA DE BAJA'].unique().max()))\n",
    "print(\"- El rango de la fecha de nacimiento va desde {0} hasta {1}.\".format(df['FECHA DE NACIMIENTO'].unique().min(), df['FECHA DE NACIMIENTO'].unique().max()))"
   ]
  },
  {
   "cell_type": "markdown",
   "metadata": {},
   "source": [
    "__Nota:__  \n",
    "Fecha de nacimiento del 2022 es erronea ya que la edad mínima para trabajar es de 18 años, actualizar valores menores a 18 con 18."
   ]
  },
  {
   "cell_type": "code",
   "execution_count": 70,
   "metadata": {},
   "outputs": [
    {
     "name": "stdout",
     "output_type": "stream",
     "text": [
      "- Los distintos estatus utilizados: ['baja' 'activo']\n"
     ]
    }
   ],
   "source": [
    "# Estatus\n",
    "\n",
    "print(\"- Los distintos estatus utilizados:\", df.Estatus.unique())"
   ]
  },
  {
   "cell_type": "code",
   "execution_count": 71,
   "metadata": {},
   "outputs": [
    {
     "name": "stdout",
     "output_type": "stream",
     "text": [
      "- El rango de días laborados va de un min nan hasta nan, y su promedio es 63.76\n"
     ]
    }
   ],
   "source": [
    "# Días Laborados\n",
    "\n",
    "print(\"- El rango de días laborados va de un min {0} hasta {1}, y su promedio es {2}\".format(df['Días Laborados'].unique().min(),\n",
    "                                                                                      df['Días Laborados'].unique().max(),\n",
    "                                                                 np.round(pd.to_numeric(df['Días Laborados']).mean(), 2)))"
   ]
  },
  {
   "cell_type": "markdown",
   "metadata": {},
   "source": [
    "__Nota:__  \n",
    "Existen valores núlos que no permiten tener certeza de los mínimos y máximos."
   ]
  },
  {
   "cell_type": "code",
   "execution_count": 72,
   "metadata": {},
   "outputs": [
    {
     "name": "stdout",
     "output_type": "stream",
     "text": [
      "- Los distintos estatus utilizados: ['Si' 'NO' 'NO ' 'SI']\n"
     ]
    }
   ],
   "source": [
    "# No de Crédito Infonavit\n",
    "\n",
    "print(\"- Los distintos estatus utilizados:\", df['No de Crédito Infonavit'].unique())"
   ]
  },
  {
   "cell_type": "markdown",
   "metadata": {},
   "source": [
    "__Nota:__  \n",
    "Se tiene qué homologar Si y No "
   ]
  },
  {
   "cell_type": "code",
   "execution_count": 73,
   "metadata": {},
   "outputs": [
    {
     "name": "stdout",
     "output_type": "stream",
     "text": [
      "- En la base de datos se consideraron 7 puestos distintos:\n",
      "    * OP PRODUCCION\n",
      "    * OP PRENSA\n",
      "    * AUXILIAR ALMACEN\n",
      "    * INSP CALIDAD\n",
      "    * MONTACARGUISTA\n",
      "    * INTENDENCIA\n",
      "    * MECANICO\n"
     ]
    }
   ],
   "source": [
    "# Puesto\n",
    "\n",
    "print(\"- En la base de datos se consideraron {0} puestos distintos:\".format(len(df.PUESTO.unique())))\n",
    "for i in df.PUESTO.unique():\n",
    "    print(\"    * \"+i)"
   ]
  },
  {
   "cell_type": "code",
   "execution_count": 74,
   "metadata": {},
   "outputs": [
    {
     "name": "stdout",
     "output_type": "stream",
     "text": [
      "- En la base de datos se consideraron 6 areas distintas:\n",
      "    * PRODUCCION\n",
      "    * PRENSA\n",
      "    * ALMACEN\n",
      "    * CALIDAD\n",
      "    * \n",
      "    * MANTENIMIENTO\n"
     ]
    }
   ],
   "source": [
    "# Area\n",
    "\n",
    "print(\"- En la base de datos se consideraron {0} areas distintas:\".format(len(df.AREA.unique())))\n",
    "for i in df.AREA.unique():\n",
    "    print(\"    * \"+i)"
   ]
  },
  {
   "cell_type": "markdown",
   "metadata": {},
   "source": [
    "__Nota:__  \n",
    "Existen valores nulos"
   ]
  },
  {
   "cell_type": "code",
   "execution_count": 75,
   "metadata": {},
   "outputs": [
    {
     "name": "stdout",
     "output_type": "stream",
     "text": [
      "- En la base de datos se consideraron 4 turnos distintos:\n",
      "    * C\n",
      "    * B\n",
      "    * A\n",
      "    * ROLA\n"
     ]
    }
   ],
   "source": [
    "# Turno\n",
    "\n",
    "print(\"- En la base de datos se consideraron {0} turnos distintos:\".format(len(df.TURNO.unique())))\n",
    "for i in df.TURNO.unique():\n",
    "    print(\"    * \"+i)"
   ]
  },
  {
   "cell_type": "code",
   "execution_count": 76,
   "metadata": {},
   "outputs": [
    {
     "name": "stdout",
     "output_type": "stream",
     "text": [
      "- En la base de datos se consideraron 13 municipios distintos:\n",
      "    * TALA\n",
      "    * TLAJOMULCO\n",
      "    * AHUISCULCO \n",
      "    * ZAP\n",
      "    * HUAXTLA\n",
      "    * LA VENTA DEL ASTILLERO \n",
      "    * ZAMORA\n",
      "    * EL ARENAL\n",
      "    * BUENA VISTA \n",
      "    * JALISCO\n",
      "    * CD GUZMAN\n",
      "    * HUAXTLA \n",
      "    * SAN JUAN DE LOS ARCOS \n"
     ]
    }
   ],
   "source": [
    "# Municipio\n",
    "\n",
    "print(\"- En la base de datos se consideraron {0} municipios distintos:\".format(len(df.MUNICIPIO.unique())))\n",
    "for i in df.MUNICIPIO.unique():\n",
    "    print(\"    * \"+i)"
   ]
  },
  {
   "cell_type": "markdown",
   "metadata": {},
   "source": [
    "__Nota:__  \n",
    "Jalisco no es un municipio, se tiene qué revisar."
   ]
  },
  {
   "cell_type": "code",
   "execution_count": 77,
   "metadata": {},
   "outputs": [
    {
     "name": "stdout",
     "output_type": "stream",
     "text": [
      "- El rango de salario diario va de un min nan hasta nan, y su promedio es 258.79\n"
     ]
    }
   ],
   "source": [
    "# Salario diario\n",
    "\n",
    "print(\"- El rango de salario diario va de un min {0} hasta {1}, y su promedio es {2}\".format(df['SALARIO DIARIO'].unique().min(),\n",
    "                                                                                      df['SALARIO DIARIO'].unique().max(),\n",
    "                                                                 np.round(pd.to_numeric(df['SALARIO DIARIO']).mean(), 2)))\n"
   ]
  },
  {
   "cell_type": "markdown",
   "metadata": {},
   "source": [
    "__Nota:__  \n",
    "Existen valores núlos que no permiten tener certeza de los mínimos y máximos."
   ]
  },
  {
   "cell_type": "code",
   "execution_count": 78,
   "metadata": {},
   "outputs": [
    {
     "name": "stdout",
     "output_type": "stream",
     "text": [
      "- El rango de salario mensual va de un min nan hasta nan, y su promedio es 7705.71\n"
     ]
    }
   ],
   "source": [
    "# Salario Mensual\n",
    "\n",
    "print(\"- El rango de salario mensual va de un min {0} hasta {1}, y su promedio es {2}\".format(df['SALARIO MENSUAL'].unique().min(),\n",
    "                                                                                      df['SALARIO MENSUAL'].unique().max(),\n",
    "                                                                 np.round(pd.to_numeric(df['SALARIO MENSUAL']).mean(), 2)))\n"
   ]
  },
  {
   "cell_type": "markdown",
   "metadata": {},
   "source": [
    "__Nota:__  \n",
    "Existen valores núlos que no permiten tener certeza de los mínimos y máximos."
   ]
  },
  {
   "cell_type": "code",
   "execution_count": 79,
   "metadata": {},
   "outputs": [
    {
     "name": "stdout",
     "output_type": "stream",
     "text": [
      "- En la base de datos se consideraron 12 escolaridades distintas:\n",
      "    * SECUNDARIA\n",
      "    * SECUNDARIA_TRUNCA\n",
      "    * PREPARATORIA\n",
      "    * PREPARATORIA_TRUNCA\n",
      "    * PRIMARIA\n",
      "    * CURSANDO_LICENCIATURA\n",
      "    * INGENIERO\n",
      "    * SIN_ESTUDIOS\n",
      "    * PREPARATORIA_TECNICA\n",
      "    * CURSANDO_PREPARATORIA\n",
      "    * CURSANDO_SECUNDARIA\n",
      "    * LICENCIATURA\n"
     ]
    }
   ],
   "source": [
    "# Escolaridad\n",
    "\n",
    "print(\"- En la base de datos se consideraron {0} escolaridades distintas:\".format(len(df.ESCOLARIDAD.unique())))\n",
    "for i in df.ESCOLARIDAD.unique():\n",
    "    print(\"    * \"+i)"
   ]
  },
  {
   "cell_type": "code",
   "execution_count": 80,
   "metadata": {},
   "outputs": [
    {
     "name": "stdout",
     "output_type": "stream",
     "text": [
      "- Los distintos géneros utilizados: ['FEMENINO' 'MASCULINO']\n"
     ]
    }
   ],
   "source": [
    "# Género\n",
    "\n",
    "print(\"- Los distintos géneros utilizados:\", df.GENERO.unique())"
   ]
  },
  {
   "cell_type": "code",
   "execution_count": 81,
   "metadata": {},
   "outputs": [
    {
     "name": "stdout",
     "output_type": "stream",
     "text": [
      "- En la base de datos se consideraron 23 tipos de renuncia distintas:\n",
      "    * RENUNCIA VOLUNTARIA\n",
      "    * SEPARACION VOLUNTARIA \n",
      "    * ABANDONO\n",
      "    * ABANDONO DE EMPLEO\n",
      "    * VOLUNTARIA\n",
      "    * BAJA POR FALTAS\n",
      "    * \n",
      "    * RESCISION DE CONTRATO\n",
      "    * BAJA\n",
      "    * RENUNCIA X SALARIO\n",
      "    * BAJA POR CIERRE DE BODEGA\n",
      "    * RECORTE DE PERSONAL\n",
      "    * CAMBIO A TIJUANA\n",
      "    * PENSION POR CESANTIA\n",
      "    * PENSION DE INVALIDEZ\n",
      "    * TERMINACION\n",
      "    * SEPARACION VOLUNTARIA\n",
      "    * RECISION DE CONTRATO\n",
      "    * DEFUNCIÓN\n",
      "    * BAJA POR DESEMPEÑO\n",
      "    * TERMINATION\n",
      "    * TERMINO DE CONTRATO\n",
      "    * TERMINO DE CONTRATO \n"
     ]
    }
   ],
   "source": [
    "# Tipo de renuncia\n",
    "\n",
    "print(\"- En la base de datos se consideraron {0} tipos de renuncia distintas:\".format(len(df['Tipo de renuncia'].unique())))\n",
    "for i in df['Tipo de renuncia'].unique():\n",
    "    print(\"    * \"+i)"
   ]
  },
  {
   "cell_type": "markdown",
   "metadata": {},
   "source": [
    "__Nota:__  \n",
    "Se tienen qué englobar las siguientes categorías:\n",
    "\n",
    "___VOLUNTARIA___: RENUNCIA VOLUNTARIA, SEPARACION VOLUNTARIA, VOLUNTARIA, SEPARACION VOLUNTARIA  \n",
    "___ABANDONO___: ABANDONO, ABANDONO DE EMPLEO, BAJA POR FALTAS  \n",
    "___BAJA___: RESCISION DE CONTRATO, BAJA, BAJA POR CIERRE DE BODEGA, RECORTE DE PERSONAL, CAMBIO A TIJUANA, TERMINACION, RECISION DE CONTRATO, BAJA POR DESEMPEÑO, TERMINATION, TERMINO DE CONTRATO, TERMINO DE CONTRATO\n",
    "\n",
    "Para un total de 7 categorías"
   ]
  },
  {
   "cell_type": "code",
   "execution_count": 82,
   "metadata": {},
   "outputs": [],
   "source": [
    "# Motivo de renuncia\n",
    "\n",
    "# ya que se incluyen 203 registros distintos, motivo de renuncia se reservará para un análisis distinto, en este no se incluirá \n",
    "\n"
   ]
  },
  {
   "cell_type": "code",
   "execution_count": 83,
   "metadata": {},
   "outputs": [
    {
     "data": {
      "text/plain": [
       "FECHA DE INGRESO             0\n",
       "FECHA DE BAJA               71\n",
       "Estatus                      0\n",
       "Días Laborados              71\n",
       "FECHA DE NACIMIENTO        214\n",
       "No de Crédito Infonavit      0\n",
       "PUESTO                       0\n",
       "AREA                         0\n",
       "TURNO                        0\n",
       "MUNICIPIO                    0\n",
       "SALARIO DIARIO             214\n",
       "SALARIO MENSUAL            214\n",
       "ESCOLARIDAD                  0\n",
       "GENERO                       0\n",
       "Tipo de renuncia             0\n",
       "Motivo de renuncia           0\n",
       "dtype: int64"
      ]
     },
     "execution_count": 83,
     "metadata": {},
     "output_type": "execute_result"
    }
   ],
   "source": [
    "# Revisión de missing values\n",
    "\n",
    "df.isnull().sum()"
   ]
  },
  {
   "cell_type": "markdown",
   "metadata": {},
   "source": [
    "__Nota:__  \n",
    "Los salarios tienen múchos valores nulos que sería conveniente llenar con la media.  \n",
    "Quizá vale la pena sólo considerar el salario mensual o el salario diario ya que aportan la misma información  \n",
    "Los valores nulos en baja y días laborados corresponden a personal que aún está activo  \n",
    "Fecha de nacimiento se puede rellenear con la media de edades ya que existen 214 valores núlos"
   ]
  },
  {
   "cell_type": "markdown",
   "metadata": {},
   "source": [
    "### 3. Limpieza de datos"
   ]
  },
  {
   "cell_type": "code",
   "execution_count": 84,
   "metadata": {},
   "outputs": [],
   "source": [
    "# actualizar index de base de datos\n",
    "\n",
    "df.reset_index(drop=True, inplace=True)"
   ]
  },
  {
   "cell_type": "code",
   "execution_count": 85,
   "metadata": {},
   "outputs": [
    {
     "data": {
      "text/html": [
       "<div>\n",
       "<style scoped>\n",
       "    .dataframe tbody tr th:only-of-type {\n",
       "        vertical-align: middle;\n",
       "    }\n",
       "\n",
       "    .dataframe tbody tr th {\n",
       "        vertical-align: top;\n",
       "    }\n",
       "\n",
       "    .dataframe thead th {\n",
       "        text-align: right;\n",
       "    }\n",
       "</style>\n",
       "<table border=\"1\" class=\"dataframe\">\n",
       "  <thead>\n",
       "    <tr style=\"text-align: right;\">\n",
       "      <th></th>\n",
       "      <th>FECHA DE INGRESO</th>\n",
       "      <th>FECHA DE BAJA</th>\n",
       "      <th>Estatus</th>\n",
       "      <th>Días Laborados</th>\n",
       "      <th>FECHA DE NACIMIENTO</th>\n",
       "      <th>No de Crédito Infonavit</th>\n",
       "      <th>PUESTO</th>\n",
       "      <th>AREA</th>\n",
       "      <th>TURNO</th>\n",
       "      <th>MUNICIPIO</th>\n",
       "      <th>SALARIO DIARIO</th>\n",
       "      <th>SALARIO MENSUAL</th>\n",
       "      <th>ESCOLARIDAD</th>\n",
       "      <th>GENERO</th>\n",
       "      <th>Tipo de renuncia</th>\n",
       "    </tr>\n",
       "  </thead>\n",
       "  <tbody>\n",
       "    <tr>\n",
       "      <th>0</th>\n",
       "      <td>2023-11-21</td>\n",
       "      <td>2023-11-22</td>\n",
       "      <td>baja</td>\n",
       "      <td>1.0</td>\n",
       "      <td>1979-08-26</td>\n",
       "      <td>Si</td>\n",
       "      <td>OP PRODUCCION</td>\n",
       "      <td>PRODUCCION</td>\n",
       "      <td>C</td>\n",
       "      <td>TALA</td>\n",
       "      <td>250.0</td>\n",
       "      <td>7500.0</td>\n",
       "      <td>SECUNDARIA</td>\n",
       "      <td>FEMENINO</td>\n",
       "      <td>RENUNCIA VOLUNTARIA</td>\n",
       "    </tr>\n",
       "    <tr>\n",
       "      <th>1</th>\n",
       "      <td>2023-10-16</td>\n",
       "      <td>2023-10-17</td>\n",
       "      <td>baja</td>\n",
       "      <td>1.0</td>\n",
       "      <td>1993-09-02</td>\n",
       "      <td>NO</td>\n",
       "      <td>OP PRODUCCION</td>\n",
       "      <td>PRODUCCION</td>\n",
       "      <td>C</td>\n",
       "      <td>TALA</td>\n",
       "      <td>250.0</td>\n",
       "      <td>7500.0</td>\n",
       "      <td>SECUNDARIA_TRUNCA</td>\n",
       "      <td>FEMENINO</td>\n",
       "      <td>SEPARACION VOLUNTARIA</td>\n",
       "    </tr>\n",
       "    <tr>\n",
       "      <th>2</th>\n",
       "      <td>2022-02-21</td>\n",
       "      <td>2022-02-22</td>\n",
       "      <td>baja</td>\n",
       "      <td>1.0</td>\n",
       "      <td>1993-10-17</td>\n",
       "      <td>NO</td>\n",
       "      <td>OP PRODUCCION</td>\n",
       "      <td>PRODUCCION</td>\n",
       "      <td>C</td>\n",
       "      <td>TALA</td>\n",
       "      <td>200.0</td>\n",
       "      <td>6000.0</td>\n",
       "      <td>SECUNDARIA</td>\n",
       "      <td>FEMENINO</td>\n",
       "      <td>ABANDONO</td>\n",
       "    </tr>\n",
       "  </tbody>\n",
       "</table>\n",
       "</div>"
      ],
      "text/plain": [
       "  FECHA DE INGRESO FECHA DE BAJA Estatus  Días Laborados FECHA DE NACIMIENTO  \\\n",
       "0       2023-11-21    2023-11-22    baja             1.0          1979-08-26   \n",
       "1       2023-10-16    2023-10-17    baja             1.0          1993-09-02   \n",
       "2       2022-02-21    2022-02-22    baja             1.0          1993-10-17   \n",
       "\n",
       "  No de Crédito Infonavit         PUESTO        AREA TURNO MUNICIPIO  \\\n",
       "0                      Si  OP PRODUCCION  PRODUCCION     C      TALA   \n",
       "1                      NO  OP PRODUCCION  PRODUCCION     C      TALA   \n",
       "2                      NO  OP PRODUCCION  PRODUCCION     C      TALA   \n",
       "\n",
       "   SALARIO DIARIO  SALARIO MENSUAL        ESCOLARIDAD    GENERO  \\\n",
       "0           250.0           7500.0         SECUNDARIA  FEMENINO   \n",
       "1           250.0           7500.0  SECUNDARIA_TRUNCA  FEMENINO   \n",
       "2           200.0           6000.0         SECUNDARIA  FEMENINO   \n",
       "\n",
       "         Tipo de renuncia  \n",
       "0     RENUNCIA VOLUNTARIA  \n",
       "1  SEPARACION VOLUNTARIA   \n",
       "2                ABANDONO  "
      ]
     },
     "execution_count": 85,
     "metadata": {},
     "output_type": "execute_result"
    }
   ],
   "source": [
    "# eliminar variable `Motivo de renuncia` que no se utilizará en este análisis\n",
    "try:\n",
    "    df.drop(columns=['Motivo de renuncia'], inplace=True)\n",
    "except:\n",
    "    next\n",
    "    \n",
    "df.head(3)"
   ]
  },
  {
   "cell_type": "code",
   "execution_count": 86,
   "metadata": {},
   "outputs": [
    {
     "data": {
      "text/plain": [
       "FECHA DE INGRESO           datetime64[ns]\n",
       "FECHA DE BAJA              datetime64[ns]\n",
       "Estatus                            object\n",
       "Días Laborados                    float64\n",
       "FECHA DE NACIMIENTO        datetime64[ns]\n",
       "No de Crédito Infonavit            object\n",
       "PUESTO                             object\n",
       "AREA                               object\n",
       "TURNO                              object\n",
       "MUNICIPIO                          object\n",
       "SALARIO DIARIO                    float64\n",
       "SALARIO MENSUAL                   float64\n",
       "ESCOLARIDAD                        object\n",
       "GENERO                             object\n",
       "Tipo de renuncia                   object\n",
       "dtype: object"
      ]
     },
     "execution_count": 86,
     "metadata": {},
     "output_type": "execute_result"
    }
   ],
   "source": [
    "# revisar tipo de variable\n",
    "\n",
    "df.dtypes"
   ]
  },
  {
   "cell_type": "markdown",
   "metadata": {},
   "source": [
    "No hay necesidad de transformar las variables ya que todas están en el formato correcto."
   ]
  },
  {
   "cell_type": "code",
   "execution_count": 87,
   "metadata": {},
   "outputs": [
    {
     "data": {
      "text/plain": [
       "<DatetimeArray>\n",
       "['2023-11-21 00:00:00', '2023-10-16 00:00:00', '2022-02-21 00:00:00',\n",
       " '2023-10-23 00:00:00', '2023-12-20 00:00:00', '2023-03-23 00:00:00',\n",
       " '2023-10-30 00:00:00', '2022-02-15 00:00:00', '2024-01-15 00:00:00',\n",
       " '2022-10-17 00:00:00',\n",
       " ...\n",
       " '2024-01-08 00:00:00', '2023-09-18 00:00:00', '2022-02-02 00:00:00',\n",
       " '2021-06-12 00:00:00', '2023-11-06 00:00:00', '2023-12-06 00:00:00',\n",
       " '2024-01-29 00:00:00', '2024-01-22 00:00:00', '2024-02-06 00:00:00',\n",
       " '2023-07-10 00:00:00']\n",
       "Length: 236, dtype: datetime64[ns]"
      ]
     },
     "execution_count": 87,
     "metadata": {},
     "output_type": "execute_result"
    }
   ],
   "source": [
    "# FECHA DE INGRESO\n",
    "\n",
    "df['FECHA DE INGRESO'].unique()"
   ]
  },
  {
   "cell_type": "code",
   "execution_count": 88,
   "metadata": {},
   "outputs": [
    {
     "name": "stdout",
     "output_type": "stream",
     "text": [
      "    FECHA DE INGRESO FECHA DE BAJA Estatus  Días Laborados  \\\n",
      "470       2023-03-13           NaT  activo             NaN   \n",
      "\n",
      "    FECHA DE NACIMIENTO No de Crédito Infonavit          PUESTO     AREA  \\\n",
      "470          2022-05-28                      NO  MONTACARGUISTA  ALMACEN   \n",
      "\n",
      "    TURNO MUNICIPIO  SALARIO DIARIO  SALARIO MENSUAL   ESCOLARIDAD     GENERO  \\\n",
      "470     C      TALA           375.0          11250.0  PREPARATORIA  MASCULINO   \n",
      "\n",
      "    Tipo de renuncia  \n",
      "470                   \n"
     ]
    }
   ],
   "source": [
    "# FECHA DE NACIMIENTO\n",
    "\n",
    "print(df[df['FECHA DE NACIMIENTO'] > \"2006-03-01\"])\n"
   ]
  },
  {
   "cell_type": "code",
   "execution_count": 89,
   "metadata": {},
   "outputs": [
    {
     "name": "stdout",
     "output_type": "stream",
     "text": [
      "Empty DataFrame\n",
      "Columns: [FECHA DE INGRESO, FECHA DE BAJA, Estatus, Días Laborados, FECHA DE NACIMIENTO, No de Crédito Infonavit, PUESTO, AREA, TURNO, MUNICIPIO, SALARIO DIARIO, SALARIO MENSUAL, ESCOLARIDAD, GENERO, Tipo de renuncia]\n",
      "Index: []\n"
     ]
    }
   ],
   "source": [
    "# Nuestros datos llegan a marzo del 2024, por ende vamos a filtrar todas las fechas de nacimiento superiores\n",
    "# al 01 de marzo del 2006, estos datos se rellenarán con fecha de nacimiento del 01 de marzo del 2006\n",
    "\n",
    "df.loc[df['FECHA DE NACIMIENTO'] > \"2006-03-01\", 'FECHA DE NACIMIENTO'] = \"2006-03-01\"\n",
    "\n",
    "print(df[df['FECHA DE NACIMIENTO'] > \"2006-03-01\"])"
   ]
  },
  {
   "cell_type": "code",
   "execution_count": 90,
   "metadata": {},
   "outputs": [
    {
     "name": "stdout",
     "output_type": "stream",
     "text": [
      "1991-01-23 06:10:00\n",
      "0     1979-08-26 00:00:00\n",
      "1     1993-09-02 00:00:00\n",
      "2     1993-10-17 00:00:00\n",
      "3     1999-08-27 00:00:00\n",
      "4     2002-06-16 00:00:00\n",
      "              ...        \n",
      "497   1995-12-22 00:00:00\n",
      "498   1991-01-23 06:10:00\n",
      "499   1991-01-23 06:10:00\n",
      "500   1991-01-23 06:10:00\n",
      "501   1991-01-23 06:10:00\n",
      "Name: FECHA DE NACIMIENTO, Length: 502, dtype: datetime64[ns]\n"
     ]
    }
   ],
   "source": [
    "# Se rellenan fechas de nacimiento faltantes con \n",
    "# media de fechas de nacimiento\n",
    "\n",
    "media_nacimiento = df['FECHA DE NACIMIENTO'].mean()\n",
    "print(media_nacimiento)\n",
    "\n",
    "df['FECHA DE NACIMIENTO'].fillna(media_nacimiento, inplace=True)\n",
    "print(df['FECHA DE NACIMIENTO'])"
   ]
  },
  {
   "cell_type": "code",
   "execution_count": 91,
   "metadata": {},
   "outputs": [],
   "source": [
    "# Días laborados\n",
    "\n"
   ]
  },
  {
   "cell_type": "code",
   "execution_count": 92,
   "metadata": {},
   "outputs": [
    {
     "data": {
      "text/plain": [
       "array(['Si', 'NO', 'NO ', 'SI'], dtype=object)"
      ]
     },
     "execution_count": 92,
     "metadata": {},
     "output_type": "execute_result"
    }
   ],
   "source": [
    "# No de crédito infonavit\n",
    "df['No de Crédito Infonavit'].unique()"
   ]
  },
  {
   "cell_type": "code",
   "execution_count": 93,
   "metadata": {},
   "outputs": [
    {
     "data": {
      "text/plain": [
       "array(['SI', 'NO'], dtype=object)"
      ]
     },
     "execution_count": 93,
     "metadata": {},
     "output_type": "execute_result"
    }
   ],
   "source": [
    "# Se homologan los SI y NO. \n",
    "\n",
    "df.loc[df['No de Crédito Infonavit'] == \"Si\", 'No de Crédito Infonavit'] = \"SI\"\n",
    "df.loc[df['No de Crédito Infonavit'] == \"NO \", 'No de Crédito Infonavit'] = \"NO\"\n",
    "\n",
    "df['No de Crédito Infonavit'].unique()"
   ]
  },
  {
   "cell_type": "code",
   "execution_count": 94,
   "metadata": {},
   "outputs": [
    {
     "data": {
      "text/html": [
       "<div>\n",
       "<style scoped>\n",
       "    .dataframe tbody tr th:only-of-type {\n",
       "        vertical-align: middle;\n",
       "    }\n",
       "\n",
       "    .dataframe tbody tr th {\n",
       "        vertical-align: top;\n",
       "    }\n",
       "\n",
       "    .dataframe thead th {\n",
       "        text-align: right;\n",
       "    }\n",
       "</style>\n",
       "<table border=\"1\" class=\"dataframe\">\n",
       "  <thead>\n",
       "    <tr style=\"text-align: right;\">\n",
       "      <th></th>\n",
       "      <th>FECHA DE INGRESO</th>\n",
       "      <th>FECHA DE BAJA</th>\n",
       "      <th>Estatus</th>\n",
       "      <th>Días Laborados</th>\n",
       "      <th>FECHA DE NACIMIENTO</th>\n",
       "      <th>No de Crédito Infonavit</th>\n",
       "      <th>PUESTO</th>\n",
       "      <th>AREA</th>\n",
       "      <th>TURNO</th>\n",
       "      <th>MUNICIPIO</th>\n",
       "      <th>SALARIO DIARIO</th>\n",
       "      <th>SALARIO MENSUAL</th>\n",
       "      <th>ESCOLARIDAD</th>\n",
       "      <th>GENERO</th>\n",
       "      <th>Tipo de renuncia</th>\n",
       "    </tr>\n",
       "  </thead>\n",
       "  <tbody>\n",
       "    <tr>\n",
       "      <th>41</th>\n",
       "      <td>2022-09-05</td>\n",
       "      <td>2022-09-14</td>\n",
       "      <td>baja</td>\n",
       "      <td>9.0</td>\n",
       "      <td>1991-01-23 06:10:00</td>\n",
       "      <td>NO</td>\n",
       "      <td>INTENDENCIA</td>\n",
       "      <td></td>\n",
       "      <td>C</td>\n",
       "      <td>TALA</td>\n",
       "      <td>NaN</td>\n",
       "      <td>NaN</td>\n",
       "      <td>SECUNDARIA_TRUNCA</td>\n",
       "      <td>MASCULINO</td>\n",
       "      <td>ABANDONO DE EMPLEO</td>\n",
       "    </tr>\n",
       "    <tr>\n",
       "      <th>161</th>\n",
       "      <td>2022-12-12</td>\n",
       "      <td>2023-01-01</td>\n",
       "      <td>baja</td>\n",
       "      <td>20.0</td>\n",
       "      <td>1991-01-23 06:10:00</td>\n",
       "      <td>NO</td>\n",
       "      <td>INTENDENCIA</td>\n",
       "      <td></td>\n",
       "      <td>C</td>\n",
       "      <td>TALA</td>\n",
       "      <td>NaN</td>\n",
       "      <td>NaN</td>\n",
       "      <td>SECUNDARIA_TRUNCA</td>\n",
       "      <td>MASCULINO</td>\n",
       "      <td>ABANDONO DE EMPLEO</td>\n",
       "    </tr>\n",
       "    <tr>\n",
       "      <th>279</th>\n",
       "      <td>2023-03-29</td>\n",
       "      <td>2023-05-03</td>\n",
       "      <td>baja</td>\n",
       "      <td>35.0</td>\n",
       "      <td>1991-01-23 06:10:00</td>\n",
       "      <td>NO</td>\n",
       "      <td>INTENDENCIA</td>\n",
       "      <td></td>\n",
       "      <td>C</td>\n",
       "      <td>TALA</td>\n",
       "      <td>NaN</td>\n",
       "      <td>NaN</td>\n",
       "      <td>PREPARATORIA_TRUNCA</td>\n",
       "      <td>MASCULINO</td>\n",
       "      <td></td>\n",
       "    </tr>\n",
       "    <tr>\n",
       "      <th>498</th>\n",
       "      <td>2022-06-06</td>\n",
       "      <td>NaT</td>\n",
       "      <td>activo</td>\n",
       "      <td>NaN</td>\n",
       "      <td>1991-01-23 06:10:00</td>\n",
       "      <td>SI</td>\n",
       "      <td>INTENDENCIA</td>\n",
       "      <td></td>\n",
       "      <td>B</td>\n",
       "      <td>TALA</td>\n",
       "      <td>NaN</td>\n",
       "      <td>NaN</td>\n",
       "      <td>SIN_ESTUDIOS</td>\n",
       "      <td>MASCULINO</td>\n",
       "      <td></td>\n",
       "    </tr>\n",
       "  </tbody>\n",
       "</table>\n",
       "</div>"
      ],
      "text/plain": [
       "    FECHA DE INGRESO FECHA DE BAJA Estatus  Días Laborados  \\\n",
       "41        2022-09-05    2022-09-14    baja             9.0   \n",
       "161       2022-12-12    2023-01-01    baja            20.0   \n",
       "279       2023-03-29    2023-05-03    baja            35.0   \n",
       "498       2022-06-06           NaT  activo             NaN   \n",
       "\n",
       "    FECHA DE NACIMIENTO No de Crédito Infonavit       PUESTO AREA TURNO  \\\n",
       "41  1991-01-23 06:10:00                      NO  INTENDENCIA          C   \n",
       "161 1991-01-23 06:10:00                      NO  INTENDENCIA          C   \n",
       "279 1991-01-23 06:10:00                      NO  INTENDENCIA          C   \n",
       "498 1991-01-23 06:10:00                      SI  INTENDENCIA          B   \n",
       "\n",
       "    MUNICIPIO  SALARIO DIARIO  SALARIO MENSUAL          ESCOLARIDAD  \\\n",
       "41       TALA             NaN              NaN    SECUNDARIA_TRUNCA   \n",
       "161      TALA             NaN              NaN    SECUNDARIA_TRUNCA   \n",
       "279      TALA             NaN              NaN  PREPARATORIA_TRUNCA   \n",
       "498      TALA             NaN              NaN         SIN_ESTUDIOS   \n",
       "\n",
       "        GENERO    Tipo de renuncia  \n",
       "41   MASCULINO  ABANDONO DE EMPLEO  \n",
       "161  MASCULINO  ABANDONO DE EMPLEO  \n",
       "279  MASCULINO                      \n",
       "498  MASCULINO                      "
      ]
     },
     "execution_count": 94,
     "metadata": {},
     "output_type": "execute_result"
    }
   ],
   "source": [
    "# Area\n",
    "\n",
    "# Valores en blanco en área\n",
    "\n",
    "df[df['AREA'] == '']"
   ]
  },
  {
   "cell_type": "code",
   "execution_count": 95,
   "metadata": {},
   "outputs": [
    {
     "data": {
      "text/html": [
       "<div>\n",
       "<style scoped>\n",
       "    .dataframe tbody tr th:only-of-type {\n",
       "        vertical-align: middle;\n",
       "    }\n",
       "\n",
       "    .dataframe tbody tr th {\n",
       "        vertical-align: top;\n",
       "    }\n",
       "\n",
       "    .dataframe thead th {\n",
       "        text-align: right;\n",
       "    }\n",
       "</style>\n",
       "<table border=\"1\" class=\"dataframe\">\n",
       "  <thead>\n",
       "    <tr style=\"text-align: right;\">\n",
       "      <th></th>\n",
       "      <th>FECHA DE INGRESO</th>\n",
       "      <th>FECHA DE BAJA</th>\n",
       "      <th>Estatus</th>\n",
       "      <th>Días Laborados</th>\n",
       "      <th>FECHA DE NACIMIENTO</th>\n",
       "      <th>No de Crédito Infonavit</th>\n",
       "      <th>PUESTO</th>\n",
       "      <th>AREA</th>\n",
       "      <th>TURNO</th>\n",
       "      <th>MUNICIPIO</th>\n",
       "      <th>SALARIO DIARIO</th>\n",
       "      <th>SALARIO MENSUAL</th>\n",
       "      <th>ESCOLARIDAD</th>\n",
       "      <th>GENERO</th>\n",
       "      <th>Tipo de renuncia</th>\n",
       "    </tr>\n",
       "  </thead>\n",
       "  <tbody>\n",
       "    <tr>\n",
       "      <th>41</th>\n",
       "      <td>2022-09-05</td>\n",
       "      <td>2022-09-14</td>\n",
       "      <td>baja</td>\n",
       "      <td>9.0</td>\n",
       "      <td>1991-01-23 06:10:00</td>\n",
       "      <td>NO</td>\n",
       "      <td>INTENDENCIA</td>\n",
       "      <td></td>\n",
       "      <td>C</td>\n",
       "      <td>TALA</td>\n",
       "      <td>NaN</td>\n",
       "      <td>NaN</td>\n",
       "      <td>SECUNDARIA_TRUNCA</td>\n",
       "      <td>MASCULINO</td>\n",
       "      <td>ABANDONO DE EMPLEO</td>\n",
       "    </tr>\n",
       "    <tr>\n",
       "      <th>161</th>\n",
       "      <td>2022-12-12</td>\n",
       "      <td>2023-01-01</td>\n",
       "      <td>baja</td>\n",
       "      <td>20.0</td>\n",
       "      <td>1991-01-23 06:10:00</td>\n",
       "      <td>NO</td>\n",
       "      <td>INTENDENCIA</td>\n",
       "      <td></td>\n",
       "      <td>C</td>\n",
       "      <td>TALA</td>\n",
       "      <td>NaN</td>\n",
       "      <td>NaN</td>\n",
       "      <td>SECUNDARIA_TRUNCA</td>\n",
       "      <td>MASCULINO</td>\n",
       "      <td>ABANDONO DE EMPLEO</td>\n",
       "    </tr>\n",
       "    <tr>\n",
       "      <th>279</th>\n",
       "      <td>2023-03-29</td>\n",
       "      <td>2023-05-03</td>\n",
       "      <td>baja</td>\n",
       "      <td>35.0</td>\n",
       "      <td>1991-01-23 06:10:00</td>\n",
       "      <td>NO</td>\n",
       "      <td>INTENDENCIA</td>\n",
       "      <td></td>\n",
       "      <td>C</td>\n",
       "      <td>TALA</td>\n",
       "      <td>NaN</td>\n",
       "      <td>NaN</td>\n",
       "      <td>PREPARATORIA_TRUNCA</td>\n",
       "      <td>MASCULINO</td>\n",
       "      <td></td>\n",
       "    </tr>\n",
       "    <tr>\n",
       "      <th>498</th>\n",
       "      <td>2022-06-06</td>\n",
       "      <td>NaT</td>\n",
       "      <td>activo</td>\n",
       "      <td>NaN</td>\n",
       "      <td>1991-01-23 06:10:00</td>\n",
       "      <td>SI</td>\n",
       "      <td>INTENDENCIA</td>\n",
       "      <td></td>\n",
       "      <td>B</td>\n",
       "      <td>TALA</td>\n",
       "      <td>NaN</td>\n",
       "      <td>NaN</td>\n",
       "      <td>SIN_ESTUDIOS</td>\n",
       "      <td>MASCULINO</td>\n",
       "      <td></td>\n",
       "    </tr>\n",
       "  </tbody>\n",
       "</table>\n",
       "</div>"
      ],
      "text/plain": [
       "    FECHA DE INGRESO FECHA DE BAJA Estatus  Días Laborados  \\\n",
       "41        2022-09-05    2022-09-14    baja             9.0   \n",
       "161       2022-12-12    2023-01-01    baja            20.0   \n",
       "279       2023-03-29    2023-05-03    baja            35.0   \n",
       "498       2022-06-06           NaT  activo             NaN   \n",
       "\n",
       "    FECHA DE NACIMIENTO No de Crédito Infonavit       PUESTO AREA TURNO  \\\n",
       "41  1991-01-23 06:10:00                      NO  INTENDENCIA          C   \n",
       "161 1991-01-23 06:10:00                      NO  INTENDENCIA          C   \n",
       "279 1991-01-23 06:10:00                      NO  INTENDENCIA          C   \n",
       "498 1991-01-23 06:10:00                      SI  INTENDENCIA          B   \n",
       "\n",
       "    MUNICIPIO  SALARIO DIARIO  SALARIO MENSUAL          ESCOLARIDAD  \\\n",
       "41       TALA             NaN              NaN    SECUNDARIA_TRUNCA   \n",
       "161      TALA             NaN              NaN    SECUNDARIA_TRUNCA   \n",
       "279      TALA             NaN              NaN  PREPARATORIA_TRUNCA   \n",
       "498      TALA             NaN              NaN         SIN_ESTUDIOS   \n",
       "\n",
       "        GENERO    Tipo de renuncia  \n",
       "41   MASCULINO  ABANDONO DE EMPLEO  \n",
       "161  MASCULINO  ABANDONO DE EMPLEO  \n",
       "279  MASCULINO                      \n",
       "498  MASCULINO                      "
      ]
     },
     "execution_count": 95,
     "metadata": {},
     "output_type": "execute_result"
    }
   ],
   "source": [
    "# Area\n",
    "\n",
    "# Se revisa a qué area están asignadas las personas de intendencia para agregarles a estos 4 registros esa área\n",
    "\n",
    "df[df['PUESTO'] == 'INTENDENCIA']"
   ]
  },
  {
   "cell_type": "code",
   "execution_count": 96,
   "metadata": {},
   "outputs": [
    {
     "data": {
      "text/html": [
       "<div>\n",
       "<style scoped>\n",
       "    .dataframe tbody tr th:only-of-type {\n",
       "        vertical-align: middle;\n",
       "    }\n",
       "\n",
       "    .dataframe tbody tr th {\n",
       "        vertical-align: top;\n",
       "    }\n",
       "\n",
       "    .dataframe thead th {\n",
       "        text-align: right;\n",
       "    }\n",
       "</style>\n",
       "<table border=\"1\" class=\"dataframe\">\n",
       "  <thead>\n",
       "    <tr style=\"text-align: right;\">\n",
       "      <th></th>\n",
       "      <th>FECHA DE INGRESO</th>\n",
       "      <th>FECHA DE BAJA</th>\n",
       "      <th>Estatus</th>\n",
       "      <th>Días Laborados</th>\n",
       "      <th>FECHA DE NACIMIENTO</th>\n",
       "      <th>No de Crédito Infonavit</th>\n",
       "      <th>PUESTO</th>\n",
       "      <th>AREA</th>\n",
       "      <th>TURNO</th>\n",
       "      <th>MUNICIPIO</th>\n",
       "      <th>SALARIO DIARIO</th>\n",
       "      <th>SALARIO MENSUAL</th>\n",
       "      <th>ESCOLARIDAD</th>\n",
       "      <th>GENERO</th>\n",
       "      <th>Tipo de renuncia</th>\n",
       "    </tr>\n",
       "  </thead>\n",
       "  <tbody>\n",
       "  </tbody>\n",
       "</table>\n",
       "</div>"
      ],
      "text/plain": [
       "Empty DataFrame\n",
       "Columns: [FECHA DE INGRESO, FECHA DE BAJA, Estatus, Días Laborados, FECHA DE NACIMIENTO, No de Crédito Infonavit, PUESTO, AREA, TURNO, MUNICIPIO, SALARIO DIARIO, SALARIO MENSUAL, ESCOLARIDAD, GENERO, Tipo de renuncia]\n",
       "Index: []"
      ]
     },
     "execution_count": 96,
     "metadata": {},
     "output_type": "execute_result"
    }
   ],
   "source": [
    "# Ya que se strata de sólamente 4 valores, e intendencia podría no \n",
    "# considerarse como personal de producción, se eliminarán estos 4 registros.\n",
    "\n",
    "df = df[df['PUESTO'] != 'INTENDENCIA']\n",
    "\n",
    "df[df['PUESTO'] == 'INTENDENCIA']"
   ]
  },
  {
   "cell_type": "code",
   "execution_count": 97,
   "metadata": {},
   "outputs": [
    {
     "data": {
      "text/plain": [
       "array(['TALA', 'TLAJOMULCO', 'AHUISCULCO ', 'ZAP', 'HUAXTLA',\n",
       "       'LA VENTA DEL ASTILLERO ', 'ZAMORA', 'EL ARENAL', 'BUENA VISTA ',\n",
       "       'JALISCO', 'CD GUZMAN', 'HUAXTLA ', 'SAN JUAN DE LOS ARCOS '],\n",
       "      dtype=object)"
      ]
     },
     "execution_count": 97,
     "metadata": {},
     "output_type": "execute_result"
    }
   ],
   "source": [
    "# Municipio\n",
    "\n",
    "df.MUNICIPIO.unique()"
   ]
  },
  {
   "cell_type": "code",
   "execution_count": 98,
   "metadata": {},
   "outputs": [
    {
     "data": {
      "text/plain": [
       "array(['TALA', 'TLAJOMULCO', 'AHUISCULCO ', 'ZAPOPAN', 'HUAXTLA',\n",
       "       'LA VENTA DEL ASTILLERO ', 'ZAMORA', 'EL ARENAL', 'BUENA VISTA ',\n",
       "       'CD GUZMAN', 'SAN JUAN DE LOS ARCOS '], dtype=object)"
      ]
     },
     "execution_count": 98,
     "metadata": {},
     "output_type": "execute_result"
    }
   ],
   "source": [
    "# Municipio se actualiza ZAP y Jalisco a Zapopan\n",
    "# Huaxtla se homologan\n",
    "\n",
    "df.loc[df['MUNICIPIO'] == \"JALISCO\", 'MUNICIPIO'] = \"ZAPOPAN\"\n",
    "df.loc[df['MUNICIPIO'] == \"ZAP\", 'MUNICIPIO'] = \"ZAPOPAN\"\n",
    "df.loc[df['MUNICIPIO'] == \"HUAXTLA \", 'MUNICIPIO'] = \"HUAXTLA\"\n",
    "\n",
    "df.MUNICIPIO.unique()"
   ]
  },
  {
   "cell_type": "code",
   "execution_count": 99,
   "metadata": {},
   "outputs": [
    {
     "name": "stderr",
     "output_type": "stream",
     "text": [
      "C:\\Users\\luism\\AppData\\Local\\Temp\\ipykernel_8832\\451139286.py:5: SettingWithCopyWarning: \n",
      "A value is trying to be set on a copy of a slice from a DataFrame\n",
      "\n",
      "See the caveats in the documentation: https://pandas.pydata.org/pandas-docs/stable/user_guide/indexing.html#returning-a-view-versus-a-copy\n",
      "  df.drop(columns=['SALARIO DIARIO'], inplace=True)\n"
     ]
    },
    {
     "data": {
      "text/html": [
       "<div>\n",
       "<style scoped>\n",
       "    .dataframe tbody tr th:only-of-type {\n",
       "        vertical-align: middle;\n",
       "    }\n",
       "\n",
       "    .dataframe tbody tr th {\n",
       "        vertical-align: top;\n",
       "    }\n",
       "\n",
       "    .dataframe thead th {\n",
       "        text-align: right;\n",
       "    }\n",
       "</style>\n",
       "<table border=\"1\" class=\"dataframe\">\n",
       "  <thead>\n",
       "    <tr style=\"text-align: right;\">\n",
       "      <th></th>\n",
       "      <th>FECHA DE INGRESO</th>\n",
       "      <th>FECHA DE BAJA</th>\n",
       "      <th>Estatus</th>\n",
       "      <th>Días Laborados</th>\n",
       "      <th>FECHA DE NACIMIENTO</th>\n",
       "      <th>No de Crédito Infonavit</th>\n",
       "      <th>PUESTO</th>\n",
       "      <th>AREA</th>\n",
       "      <th>TURNO</th>\n",
       "      <th>MUNICIPIO</th>\n",
       "      <th>SALARIO MENSUAL</th>\n",
       "      <th>ESCOLARIDAD</th>\n",
       "      <th>GENERO</th>\n",
       "      <th>Tipo de renuncia</th>\n",
       "    </tr>\n",
       "  </thead>\n",
       "  <tbody>\n",
       "    <tr>\n",
       "      <th>0</th>\n",
       "      <td>2023-11-21</td>\n",
       "      <td>2023-11-22</td>\n",
       "      <td>baja</td>\n",
       "      <td>1.0</td>\n",
       "      <td>1979-08-26</td>\n",
       "      <td>SI</td>\n",
       "      <td>OP PRODUCCION</td>\n",
       "      <td>PRODUCCION</td>\n",
       "      <td>C</td>\n",
       "      <td>TALA</td>\n",
       "      <td>7500.0</td>\n",
       "      <td>SECUNDARIA</td>\n",
       "      <td>FEMENINO</td>\n",
       "      <td>RENUNCIA VOLUNTARIA</td>\n",
       "    </tr>\n",
       "    <tr>\n",
       "      <th>1</th>\n",
       "      <td>2023-10-16</td>\n",
       "      <td>2023-10-17</td>\n",
       "      <td>baja</td>\n",
       "      <td>1.0</td>\n",
       "      <td>1993-09-02</td>\n",
       "      <td>NO</td>\n",
       "      <td>OP PRODUCCION</td>\n",
       "      <td>PRODUCCION</td>\n",
       "      <td>C</td>\n",
       "      <td>TALA</td>\n",
       "      <td>7500.0</td>\n",
       "      <td>SECUNDARIA_TRUNCA</td>\n",
       "      <td>FEMENINO</td>\n",
       "      <td>SEPARACION VOLUNTARIA</td>\n",
       "    </tr>\n",
       "    <tr>\n",
       "      <th>2</th>\n",
       "      <td>2022-02-21</td>\n",
       "      <td>2022-02-22</td>\n",
       "      <td>baja</td>\n",
       "      <td>1.0</td>\n",
       "      <td>1993-10-17</td>\n",
       "      <td>NO</td>\n",
       "      <td>OP PRODUCCION</td>\n",
       "      <td>PRODUCCION</td>\n",
       "      <td>C</td>\n",
       "      <td>TALA</td>\n",
       "      <td>6000.0</td>\n",
       "      <td>SECUNDARIA</td>\n",
       "      <td>FEMENINO</td>\n",
       "      <td>ABANDONO</td>\n",
       "    </tr>\n",
       "  </tbody>\n",
       "</table>\n",
       "</div>"
      ],
      "text/plain": [
       "  FECHA DE INGRESO FECHA DE BAJA Estatus  Días Laborados FECHA DE NACIMIENTO  \\\n",
       "0       2023-11-21    2023-11-22    baja             1.0          1979-08-26   \n",
       "1       2023-10-16    2023-10-17    baja             1.0          1993-09-02   \n",
       "2       2022-02-21    2022-02-22    baja             1.0          1993-10-17   \n",
       "\n",
       "  No de Crédito Infonavit         PUESTO        AREA TURNO MUNICIPIO  \\\n",
       "0                      SI  OP PRODUCCION  PRODUCCION     C      TALA   \n",
       "1                      NO  OP PRODUCCION  PRODUCCION     C      TALA   \n",
       "2                      NO  OP PRODUCCION  PRODUCCION     C      TALA   \n",
       "\n",
       "   SALARIO MENSUAL        ESCOLARIDAD    GENERO        Tipo de renuncia  \n",
       "0           7500.0         SECUNDARIA  FEMENINO     RENUNCIA VOLUNTARIA  \n",
       "1           7500.0  SECUNDARIA_TRUNCA  FEMENINO  SEPARACION VOLUNTARIA   \n",
       "2           6000.0         SECUNDARIA  FEMENINO                ABANDONO  "
      ]
     },
     "execution_count": 99,
     "metadata": {},
     "output_type": "execute_result"
    }
   ],
   "source": [
    "# Salario diario\n",
    "# Se elimina salario dario ya que aporta la misma información que salario mensual\n",
    "\n",
    "try:\n",
    "    df.drop(columns=['SALARIO DIARIO'], inplace=True)\n",
    "except:\n",
    "    next\n",
    "    \n",
    "df.head(3)\n",
    "\n"
   ]
  },
  {
   "cell_type": "code",
   "execution_count": 100,
   "metadata": {},
   "outputs": [
    {
     "name": "stdout",
     "output_type": "stream",
     "text": [
      "7705.711805555556\n",
      "- El rango de salario mensual va de un min 1750.0 hasta 18000.0, y su promedio es 7705.71\n"
     ]
    },
    {
     "name": "stderr",
     "output_type": "stream",
     "text": [
      "C:\\Users\\luism\\AppData\\Local\\Temp\\ipykernel_8832\\258886560.py:8: SettingWithCopyWarning: \n",
      "A value is trying to be set on a copy of a slice from a DataFrame\n",
      "\n",
      "See the caveats in the documentation: https://pandas.pydata.org/pandas-docs/stable/user_guide/indexing.html#returning-a-view-versus-a-copy\n",
      "  df['SALARIO MENSUAL'].fillna(media_salarios, inplace=True)\n"
     ]
    }
   ],
   "source": [
    "# Salario mensual\n",
    "\n",
    "# Se rellenan los salarios faltantes con la media\n",
    "\n",
    "media_salarios = df['SALARIO MENSUAL'].mean()\n",
    "print(media_salarios)\n",
    "\n",
    "df['SALARIO MENSUAL'].fillna(media_salarios, inplace=True)\n",
    "\n",
    "print(\"- El rango de salario mensual va de un min {0} hasta {1}, y su promedio es {2}\".format(df['SALARIO MENSUAL'].unique().min(),\n",
    "                                                                                      df['SALARIO MENSUAL'].unique().max(),\n",
    "                                                                 np.round(pd.to_numeric(df['SALARIO MENSUAL']).mean(), 2)))\n"
   ]
  },
  {
   "cell_type": "code",
   "execution_count": 101,
   "metadata": {},
   "outputs": [
    {
     "data": {
      "text/html": [
       "<div>\n",
       "<style scoped>\n",
       "    .dataframe tbody tr th:only-of-type {\n",
       "        vertical-align: middle;\n",
       "    }\n",
       "\n",
       "    .dataframe tbody tr th {\n",
       "        vertical-align: top;\n",
       "    }\n",
       "\n",
       "    .dataframe thead th {\n",
       "        text-align: right;\n",
       "    }\n",
       "</style>\n",
       "<table border=\"1\" class=\"dataframe\">\n",
       "  <thead>\n",
       "    <tr style=\"text-align: right;\">\n",
       "      <th></th>\n",
       "      <th>FECHA DE INGRESO</th>\n",
       "      <th>FECHA DE BAJA</th>\n",
       "      <th>Estatus</th>\n",
       "      <th>Días Laborados</th>\n",
       "      <th>FECHA DE NACIMIENTO</th>\n",
       "      <th>No de Crédito Infonavit</th>\n",
       "      <th>PUESTO</th>\n",
       "      <th>AREA</th>\n",
       "      <th>TURNO</th>\n",
       "      <th>MUNICIPIO</th>\n",
       "      <th>SALARIO MENSUAL</th>\n",
       "      <th>ESCOLARIDAD</th>\n",
       "      <th>GENERO</th>\n",
       "      <th>Tipo de renuncia</th>\n",
       "    </tr>\n",
       "  </thead>\n",
       "  <tbody>\n",
       "    <tr>\n",
       "      <th>474</th>\n",
       "      <td>2024-01-15</td>\n",
       "      <td>NaT</td>\n",
       "      <td>activo</td>\n",
       "      <td>NaN</td>\n",
       "      <td>1977-12-16</td>\n",
       "      <td>NO</td>\n",
       "      <td>OP PRODUCCION</td>\n",
       "      <td>PRODUCCION</td>\n",
       "      <td>B</td>\n",
       "      <td>TALA</td>\n",
       "      <td>1750.0</td>\n",
       "      <td>SECUNDARIA</td>\n",
       "      <td>MASCULINO</td>\n",
       "      <td></td>\n",
       "    </tr>\n",
       "    <tr>\n",
       "      <th>480</th>\n",
       "      <td>2024-01-15</td>\n",
       "      <td>NaT</td>\n",
       "      <td>activo</td>\n",
       "      <td>NaN</td>\n",
       "      <td>1987-05-28</td>\n",
       "      <td>NO</td>\n",
       "      <td>OP PRODUCCION</td>\n",
       "      <td>PRODUCCION</td>\n",
       "      <td>B</td>\n",
       "      <td>TALA</td>\n",
       "      <td>1750.0</td>\n",
       "      <td>SECUNDARIA</td>\n",
       "      <td>FEMENINO</td>\n",
       "      <td></td>\n",
       "    </tr>\n",
       "    <tr>\n",
       "      <th>481</th>\n",
       "      <td>2024-01-29</td>\n",
       "      <td>NaT</td>\n",
       "      <td>activo</td>\n",
       "      <td>NaN</td>\n",
       "      <td>1992-03-31</td>\n",
       "      <td>NO</td>\n",
       "      <td>OP PRENSA</td>\n",
       "      <td>PRENSA</td>\n",
       "      <td>B</td>\n",
       "      <td>TALA</td>\n",
       "      <td>1855.0</td>\n",
       "      <td>PREPARATORIA</td>\n",
       "      <td>MASCULINO</td>\n",
       "      <td></td>\n",
       "    </tr>\n",
       "  </tbody>\n",
       "</table>\n",
       "</div>"
      ],
      "text/plain": [
       "    FECHA DE INGRESO FECHA DE BAJA Estatus  Días Laborados  \\\n",
       "474       2024-01-15           NaT  activo             NaN   \n",
       "480       2024-01-15           NaT  activo             NaN   \n",
       "481       2024-01-29           NaT  activo             NaN   \n",
       "\n",
       "    FECHA DE NACIMIENTO No de Crédito Infonavit         PUESTO        AREA  \\\n",
       "474          1977-12-16                      NO  OP PRODUCCION  PRODUCCION   \n",
       "480          1987-05-28                      NO  OP PRODUCCION  PRODUCCION   \n",
       "481          1992-03-31                      NO      OP PRENSA      PRENSA   \n",
       "\n",
       "    TURNO MUNICIPIO  SALARIO MENSUAL   ESCOLARIDAD     GENERO Tipo de renuncia  \n",
       "474     B      TALA           1750.0    SECUNDARIA  MASCULINO                   \n",
       "480     B      TALA           1750.0    SECUNDARIA   FEMENINO                   \n",
       "481     B      TALA           1855.0  PREPARATORIA  MASCULINO                   "
      ]
     },
     "execution_count": 101,
     "metadata": {},
     "output_type": "execute_result"
    }
   ],
   "source": [
    "# Salario mensual no puede ser menor a 6mil pesos, ya que el salario mínimo en México\n",
    "# actualmente es de 7,467 pesos mensuales\n",
    "\n",
    "df[df['SALARIO MENSUAL'] < 6000]"
   ]
  },
  {
   "cell_type": "code",
   "execution_count": 102,
   "metadata": {},
   "outputs": [
    {
     "name": "stdout",
     "output_type": "stream",
     "text": [
      "Empty DataFrame\n",
      "Columns: [FECHA DE INGRESO, FECHA DE BAJA, Estatus, Días Laborados, FECHA DE NACIMIENTO, No de Crédito Infonavit, PUESTO, AREA, TURNO, MUNICIPIO, SALARIO MENSUAL, ESCOLARIDAD, GENERO, Tipo de renuncia]\n",
      "Index: []\n"
     ]
    }
   ],
   "source": [
    "# Se actualiza el salario mensual al salario mínimo vigente en la fecha de contratación\n",
    "# En este caso el salario mínimo mensual estimado es de 7400 pesos mexicanos\n",
    "\n",
    "df.loc[df['SALARIO MENSUAL'] < 6000, 'SALARIO MENSUAL'] = 7400\n",
    "\n",
    "print(df[df['SALARIO MENSUAL'] < 6000])"
   ]
  },
  {
   "cell_type": "code",
   "execution_count": 103,
   "metadata": {},
   "outputs": [
    {
     "data": {
      "text/plain": [
       "array(['RENUNCIA VOLUNTARIA', 'SEPARACION VOLUNTARIA ', 'ABANDONO',\n",
       "       'ABANDONO DE EMPLEO', 'VOLUNTARIA', 'BAJA POR FALTAS', '',\n",
       "       'RESCISION DE CONTRATO', 'BAJA', 'RENUNCIA X SALARIO',\n",
       "       'BAJA POR CIERRE DE BODEGA', 'RECORTE DE PERSONAL',\n",
       "       'CAMBIO A TIJUANA', 'PENSION POR CESANTIA', 'PENSION DE INVALIDEZ',\n",
       "       'TERMINACION', 'SEPARACION VOLUNTARIA', 'RECISION DE CONTRATO',\n",
       "       'DEFUNCIÓN', 'BAJA POR DESEMPEÑO', 'TERMINATION',\n",
       "       'TERMINO DE CONTRATO', 'TERMINO DE CONTRATO '], dtype=object)"
      ]
     },
     "execution_count": 103,
     "metadata": {},
     "output_type": "execute_result"
    }
   ],
   "source": [
    "df['Tipo de renuncia'].unique()"
   ]
  },
  {
   "cell_type": "code",
   "execution_count": 104,
   "metadata": {},
   "outputs": [
    {
     "name": "stderr",
     "output_type": "stream",
     "text": [
      "C:\\Users\\luism\\AppData\\Local\\Temp\\ipykernel_8832\\581471727.py:27: SettingWithCopyWarning: \n",
      "A value is trying to be set on a copy of a slice from a DataFrame.\n",
      "Try using .loc[row_indexer,col_indexer] = value instead\n",
      "\n",
      "See the caveats in the documentation: https://pandas.pydata.org/pandas-docs/stable/user_guide/indexing.html#returning-a-view-versus-a-copy\n",
      "  df['Tipo de renuncia'] = df['Tipo de renuncia'].replace(categoria_map)\n"
     ]
    },
    {
     "data": {
      "text/plain": [
       "array(['VOLUNTARIA', 'ABANDONO', '', 'BAJA', 'PENSION POR CESANTIA',\n",
       "       'PENSION DE INVALIDEZ', 'DEFUNCIÓN'], dtype=object)"
      ]
     },
     "execution_count": 104,
     "metadata": {},
     "output_type": "execute_result"
    }
   ],
   "source": [
    "# Definir un diccionario de mapeo de categorías\n",
    "\n",
    "categoria_map = {\n",
    "    'RENUNCIA VOLUNTARIA': 'VOLUNTARIA',\n",
    "    'SEPARACION VOLUNTARIA': 'VOLUNTARIA',\n",
    "    'SEPARACION VOLUNTARIA ': 'VOLUNTARIA',\n",
    "    'RENUNCIA X SALARIO' : 'VOLUNTARIA',\n",
    "    'VOLUNTARIA': 'VOLUNTARIA',\n",
    "    'ABANDONO': 'ABANDONO',\n",
    "    'ABANDONO DE EMPLEO': 'ABANDONO',\n",
    "    'BAJA POR FALTAS': 'ABANDONO',\n",
    "    'RESCISION DE CONTRATO': 'BAJA',\n",
    "    'BAJA': 'BAJA',\n",
    "    'BAJA POR CIERRE DE BODEGA': 'BAJA',\n",
    "    'RECORTE DE PERSONAL': 'BAJA',\n",
    "    'CAMBIO A TIJUANA': 'BAJA',\n",
    "    'TERMINACION': 'BAJA',\n",
    "    'RECISION DE CONTRATO': 'BAJA',\n",
    "    'BAJA POR DESEMPEÑO': 'BAJA',\n",
    "    'TERMINATION': 'BAJA',\n",
    "    'TERMINO DE CONTRATO': 'BAJA',\n",
    "    'TERMINO DE CONTRATO ': 'BAJA'\n",
    "}\n",
    "\n",
    "# Reemplazar las categorías en el DataFrame\n",
    "\n",
    "df['Tipo de renuncia'] = df['Tipo de renuncia'].replace(categoria_map)\n",
    "\n",
    "# Verificar las categorías únicas después del reemplazo\n",
    "\n",
    "df['Tipo de renuncia'].unique()"
   ]
  },
  {
   "cell_type": "code",
   "execution_count": 110,
   "metadata": {},
   "outputs": [
    {
     "data": {
      "text/html": [
       "<div>\n",
       "<style scoped>\n",
       "    .dataframe tbody tr th:only-of-type {\n",
       "        vertical-align: middle;\n",
       "    }\n",
       "\n",
       "    .dataframe tbody tr th {\n",
       "        vertical-align: top;\n",
       "    }\n",
       "\n",
       "    .dataframe thead th {\n",
       "        text-align: right;\n",
       "    }\n",
       "</style>\n",
       "<table border=\"1\" class=\"dataframe\">\n",
       "  <thead>\n",
       "    <tr style=\"text-align: right;\">\n",
       "      <th></th>\n",
       "      <th>FECHA DE INGRESO</th>\n",
       "      <th>FECHA DE BAJA</th>\n",
       "      <th>Estatus</th>\n",
       "      <th>Días Laborados</th>\n",
       "      <th>FECHA DE NACIMIENTO</th>\n",
       "      <th>No de Crédito Infonavit</th>\n",
       "      <th>PUESTO</th>\n",
       "      <th>AREA</th>\n",
       "      <th>TURNO</th>\n",
       "      <th>MUNICIPIO</th>\n",
       "      <th>SALARIO MENSUAL</th>\n",
       "      <th>ESCOLARIDAD</th>\n",
       "      <th>GENERO</th>\n",
       "    </tr>\n",
       "    <tr>\n",
       "      <th>Tipo de renuncia</th>\n",
       "      <th></th>\n",
       "      <th></th>\n",
       "      <th></th>\n",
       "      <th></th>\n",
       "      <th></th>\n",
       "      <th></th>\n",
       "      <th></th>\n",
       "      <th></th>\n",
       "      <th></th>\n",
       "      <th></th>\n",
       "      <th></th>\n",
       "      <th></th>\n",
       "      <th></th>\n",
       "    </tr>\n",
       "  </thead>\n",
       "  <tbody>\n",
       "    <tr>\n",
       "      <th></th>\n",
       "      <td>102</td>\n",
       "      <td>32</td>\n",
       "      <td>102</td>\n",
       "      <td>32</td>\n",
       "      <td>102</td>\n",
       "      <td>102</td>\n",
       "      <td>102</td>\n",
       "      <td>102</td>\n",
       "      <td>102</td>\n",
       "      <td>102</td>\n",
       "      <td>102</td>\n",
       "      <td>102</td>\n",
       "      <td>102</td>\n",
       "    </tr>\n",
       "    <tr>\n",
       "      <th>ABANDONO</th>\n",
       "      <td>115</td>\n",
       "      <td>115</td>\n",
       "      <td>115</td>\n",
       "      <td>115</td>\n",
       "      <td>115</td>\n",
       "      <td>115</td>\n",
       "      <td>115</td>\n",
       "      <td>115</td>\n",
       "      <td>115</td>\n",
       "      <td>115</td>\n",
       "      <td>115</td>\n",
       "      <td>115</td>\n",
       "      <td>115</td>\n",
       "    </tr>\n",
       "    <tr>\n",
       "      <th>BAJA</th>\n",
       "      <td>51</td>\n",
       "      <td>51</td>\n",
       "      <td>51</td>\n",
       "      <td>51</td>\n",
       "      <td>51</td>\n",
       "      <td>51</td>\n",
       "      <td>51</td>\n",
       "      <td>51</td>\n",
       "      <td>51</td>\n",
       "      <td>51</td>\n",
       "      <td>51</td>\n",
       "      <td>51</td>\n",
       "      <td>51</td>\n",
       "    </tr>\n",
       "    <tr>\n",
       "      <th>DEFUNCIÓN</th>\n",
       "      <td>1</td>\n",
       "      <td>1</td>\n",
       "      <td>1</td>\n",
       "      <td>1</td>\n",
       "      <td>1</td>\n",
       "      <td>1</td>\n",
       "      <td>1</td>\n",
       "      <td>1</td>\n",
       "      <td>1</td>\n",
       "      <td>1</td>\n",
       "      <td>1</td>\n",
       "      <td>1</td>\n",
       "      <td>1</td>\n",
       "    </tr>\n",
       "    <tr>\n",
       "      <th>PENSION DE INVALIDEZ</th>\n",
       "      <td>1</td>\n",
       "      <td>1</td>\n",
       "      <td>1</td>\n",
       "      <td>1</td>\n",
       "      <td>1</td>\n",
       "      <td>1</td>\n",
       "      <td>1</td>\n",
       "      <td>1</td>\n",
       "      <td>1</td>\n",
       "      <td>1</td>\n",
       "      <td>1</td>\n",
       "      <td>1</td>\n",
       "      <td>1</td>\n",
       "    </tr>\n",
       "    <tr>\n",
       "      <th>PENSION POR CESANTIA</th>\n",
       "      <td>1</td>\n",
       "      <td>1</td>\n",
       "      <td>1</td>\n",
       "      <td>1</td>\n",
       "      <td>1</td>\n",
       "      <td>1</td>\n",
       "      <td>1</td>\n",
       "      <td>1</td>\n",
       "      <td>1</td>\n",
       "      <td>1</td>\n",
       "      <td>1</td>\n",
       "      <td>1</td>\n",
       "      <td>1</td>\n",
       "    </tr>\n",
       "    <tr>\n",
       "      <th>VOLUNTARIA</th>\n",
       "      <td>227</td>\n",
       "      <td>227</td>\n",
       "      <td>227</td>\n",
       "      <td>227</td>\n",
       "      <td>227</td>\n",
       "      <td>227</td>\n",
       "      <td>227</td>\n",
       "      <td>227</td>\n",
       "      <td>227</td>\n",
       "      <td>227</td>\n",
       "      <td>227</td>\n",
       "      <td>227</td>\n",
       "      <td>227</td>\n",
       "    </tr>\n",
       "  </tbody>\n",
       "</table>\n",
       "</div>"
      ],
      "text/plain": [
       "                      FECHA DE INGRESO  FECHA DE BAJA  Estatus  \\\n",
       "Tipo de renuncia                                                 \n",
       "                                   102             32      102   \n",
       "ABANDONO                           115            115      115   \n",
       "BAJA                                51             51       51   \n",
       "DEFUNCIÓN                            1              1        1   \n",
       "PENSION DE INVALIDEZ                 1              1        1   \n",
       "PENSION POR CESANTIA                 1              1        1   \n",
       "VOLUNTARIA                         227            227      227   \n",
       "\n",
       "                      Días Laborados  FECHA DE NACIMIENTO  \\\n",
       "Tipo de renuncia                                            \n",
       "                                  32                  102   \n",
       "ABANDONO                         115                  115   \n",
       "BAJA                              51                   51   \n",
       "DEFUNCIÓN                          1                    1   \n",
       "PENSION DE INVALIDEZ               1                    1   \n",
       "PENSION POR CESANTIA               1                    1   \n",
       "VOLUNTARIA                       227                  227   \n",
       "\n",
       "                      No de Crédito Infonavit  PUESTO  AREA  TURNO  MUNICIPIO  \\\n",
       "Tipo de renuncia                                                                \n",
       "                                          102     102   102    102        102   \n",
       "ABANDONO                                  115     115   115    115        115   \n",
       "BAJA                                       51      51    51     51         51   \n",
       "DEFUNCIÓN                                   1       1     1      1          1   \n",
       "PENSION DE INVALIDEZ                        1       1     1      1          1   \n",
       "PENSION POR CESANTIA                        1       1     1      1          1   \n",
       "VOLUNTARIA                                227     227   227    227        227   \n",
       "\n",
       "                      SALARIO MENSUAL  ESCOLARIDAD  GENERO  \n",
       "Tipo de renuncia                                            \n",
       "                                  102          102     102  \n",
       "ABANDONO                          115          115     115  \n",
       "BAJA                               51           51      51  \n",
       "DEFUNCIÓN                           1            1       1  \n",
       "PENSION DE INVALIDEZ                1            1       1  \n",
       "PENSION POR CESANTIA                1            1       1  \n",
       "VOLUNTARIA                        227          227     227  "
      ]
     },
     "execution_count": 110,
     "metadata": {},
     "output_type": "execute_result"
    }
   ],
   "source": [
    "df.groupby('Tipo de renuncia').count()"
   ]
  },
  {
   "cell_type": "code",
   "execution_count": 111,
   "metadata": {},
   "outputs": [
    {
     "name": "stdout",
     "output_type": "stream",
     "text": [
      "['VOLUNTARIA' 'ABANDONO' '' 'BAJA']\n"
     ]
    }
   ],
   "source": [
    "# Se eliminan Defunción, pensión de invalidez, y cesantia ya que sólo hay un registro de cada uno{\n",
    "\n",
    "# Filtrar eliminando las filas que contienen esos valores\n",
    "\n",
    "df = df[~df['Tipo de renuncia'].isin(['PENSION POR CESANTIA', 'PENSION DE INVALIDEZ', 'DEFUNCIÓN'])]\n",
    "\n",
    "# Verificar que los registros han sido eliminados\n",
    "\n",
    "print(df['Tipo de renuncia'].unique())"
   ]
  },
  {
   "cell_type": "code",
   "execution_count": 115,
   "metadata": {},
   "outputs": [
    {
     "data": {
      "text/html": [
       "<div>\n",
       "<style scoped>\n",
       "    .dataframe tbody tr th:only-of-type {\n",
       "        vertical-align: middle;\n",
       "    }\n",
       "\n",
       "    .dataframe tbody tr th {\n",
       "        vertical-align: top;\n",
       "    }\n",
       "\n",
       "    .dataframe thead th {\n",
       "        text-align: right;\n",
       "    }\n",
       "</style>\n",
       "<table border=\"1\" class=\"dataframe\">\n",
       "  <thead>\n",
       "    <tr style=\"text-align: right;\">\n",
       "      <th></th>\n",
       "      <th>FECHA DE INGRESO</th>\n",
       "      <th>FECHA DE BAJA</th>\n",
       "      <th>Estatus</th>\n",
       "      <th>Días Laborados</th>\n",
       "      <th>FECHA DE NACIMIENTO</th>\n",
       "      <th>No de Crédito Infonavit</th>\n",
       "      <th>PUESTO</th>\n",
       "      <th>AREA</th>\n",
       "      <th>TURNO</th>\n",
       "      <th>MUNICIPIO</th>\n",
       "      <th>SALARIO MENSUAL</th>\n",
       "      <th>ESCOLARIDAD</th>\n",
       "      <th>GENERO</th>\n",
       "      <th>Tipo de renuncia</th>\n",
       "    </tr>\n",
       "  </thead>\n",
       "  <tbody>\n",
       "    <tr>\n",
       "      <th>0</th>\n",
       "      <td>2023-11-21</td>\n",
       "      <td>2023-11-22</td>\n",
       "      <td>baja</td>\n",
       "      <td>1.0</td>\n",
       "      <td>1979-08-26</td>\n",
       "      <td>SI</td>\n",
       "      <td>OP PRODUCCION</td>\n",
       "      <td>PRODUCCION</td>\n",
       "      <td>C</td>\n",
       "      <td>TALA</td>\n",
       "      <td>7500.0</td>\n",
       "      <td>SECUNDARIA</td>\n",
       "      <td>FEMENINO</td>\n",
       "      <td>VOLUNTARIA</td>\n",
       "    </tr>\n",
       "    <tr>\n",
       "      <th>1</th>\n",
       "      <td>2023-10-16</td>\n",
       "      <td>2023-10-17</td>\n",
       "      <td>baja</td>\n",
       "      <td>1.0</td>\n",
       "      <td>1993-09-02</td>\n",
       "      <td>NO</td>\n",
       "      <td>OP PRODUCCION</td>\n",
       "      <td>PRODUCCION</td>\n",
       "      <td>C</td>\n",
       "      <td>TALA</td>\n",
       "      <td>7500.0</td>\n",
       "      <td>SECUNDARIA_TRUNCA</td>\n",
       "      <td>FEMENINO</td>\n",
       "      <td>VOLUNTARIA</td>\n",
       "    </tr>\n",
       "    <tr>\n",
       "      <th>2</th>\n",
       "      <td>2022-02-21</td>\n",
       "      <td>2022-02-22</td>\n",
       "      <td>baja</td>\n",
       "      <td>1.0</td>\n",
       "      <td>1993-10-17</td>\n",
       "      <td>NO</td>\n",
       "      <td>OP PRODUCCION</td>\n",
       "      <td>PRODUCCION</td>\n",
       "      <td>C</td>\n",
       "      <td>TALA</td>\n",
       "      <td>6000.0</td>\n",
       "      <td>SECUNDARIA</td>\n",
       "      <td>FEMENINO</td>\n",
       "      <td>ABANDONO</td>\n",
       "    </tr>\n",
       "  </tbody>\n",
       "</table>\n",
       "</div>"
      ],
      "text/plain": [
       "  FECHA DE INGRESO FECHA DE BAJA Estatus  Días Laborados FECHA DE NACIMIENTO  \\\n",
       "0       2023-11-21    2023-11-22    baja             1.0          1979-08-26   \n",
       "1       2023-10-16    2023-10-17    baja             1.0          1993-09-02   \n",
       "2       2022-02-21    2022-02-22    baja             1.0          1993-10-17   \n",
       "\n",
       "  No de Crédito Infonavit         PUESTO        AREA TURNO MUNICIPIO  \\\n",
       "0                      SI  OP PRODUCCION  PRODUCCION     C      TALA   \n",
       "1                      NO  OP PRODUCCION  PRODUCCION     C      TALA   \n",
       "2                      NO  OP PRODUCCION  PRODUCCION     C      TALA   \n",
       "\n",
       "   SALARIO MENSUAL        ESCOLARIDAD    GENERO Tipo de renuncia  \n",
       "0           7500.0         SECUNDARIA  FEMENINO       VOLUNTARIA  \n",
       "1           7500.0  SECUNDARIA_TRUNCA  FEMENINO       VOLUNTARIA  \n",
       "2           6000.0         SECUNDARIA  FEMENINO         ABANDONO  "
      ]
     },
     "execution_count": 115,
     "metadata": {},
     "output_type": "execute_result"
    }
   ],
   "source": [
    "# Resultado final de limpieza de datos\n",
    "\n",
    "df.head(3)"
   ]
  },
  {
   "cell_type": "code",
   "execution_count": 116,
   "metadata": {},
   "outputs": [
    {
     "data": {
      "text/html": [
       "<div>\n",
       "<style scoped>\n",
       "    .dataframe tbody tr th:only-of-type {\n",
       "        vertical-align: middle;\n",
       "    }\n",
       "\n",
       "    .dataframe tbody tr th {\n",
       "        vertical-align: top;\n",
       "    }\n",
       "\n",
       "    .dataframe thead th {\n",
       "        text-align: right;\n",
       "    }\n",
       "</style>\n",
       "<table border=\"1\" class=\"dataframe\">\n",
       "  <thead>\n",
       "    <tr style=\"text-align: right;\">\n",
       "      <th></th>\n",
       "      <th>FECHA DE INGRESO</th>\n",
       "      <th>FECHA DE BAJA</th>\n",
       "      <th>Estatus</th>\n",
       "      <th>Días Laborados</th>\n",
       "      <th>FECHA DE NACIMIENTO</th>\n",
       "      <th>No de Crédito Infonavit</th>\n",
       "      <th>PUESTO</th>\n",
       "      <th>AREA</th>\n",
       "      <th>TURNO</th>\n",
       "      <th>MUNICIPIO</th>\n",
       "      <th>SALARIO MENSUAL</th>\n",
       "      <th>ESCOLARIDAD</th>\n",
       "      <th>GENERO</th>\n",
       "      <th>Tipo de renuncia</th>\n",
       "    </tr>\n",
       "  </thead>\n",
       "  <tbody>\n",
       "    <tr>\n",
       "      <th>499</th>\n",
       "      <td>2021-12-13</td>\n",
       "      <td>NaT</td>\n",
       "      <td>activo</td>\n",
       "      <td>NaN</td>\n",
       "      <td>1991-01-23 06:10:00</td>\n",
       "      <td>NO</td>\n",
       "      <td>OP PRODUCCION</td>\n",
       "      <td>PRODUCCION</td>\n",
       "      <td>C</td>\n",
       "      <td>TALA</td>\n",
       "      <td>7705.711806</td>\n",
       "      <td>SIN_ESTUDIOS</td>\n",
       "      <td>FEMENINO</td>\n",
       "      <td></td>\n",
       "    </tr>\n",
       "    <tr>\n",
       "      <th>500</th>\n",
       "      <td>2022-09-26</td>\n",
       "      <td>NaT</td>\n",
       "      <td>activo</td>\n",
       "      <td>NaN</td>\n",
       "      <td>1991-01-23 06:10:00</td>\n",
       "      <td>SI</td>\n",
       "      <td>OP PRODUCCION</td>\n",
       "      <td>PRODUCCION</td>\n",
       "      <td>A</td>\n",
       "      <td>TALA</td>\n",
       "      <td>7705.711806</td>\n",
       "      <td>SIN_ESTUDIOS</td>\n",
       "      <td>FEMENINO</td>\n",
       "      <td></td>\n",
       "    </tr>\n",
       "    <tr>\n",
       "      <th>501</th>\n",
       "      <td>2022-03-23</td>\n",
       "      <td>NaT</td>\n",
       "      <td>activo</td>\n",
       "      <td>NaN</td>\n",
       "      <td>1991-01-23 06:10:00</td>\n",
       "      <td>NO</td>\n",
       "      <td>OP PRODUCCION</td>\n",
       "      <td>PRODUCCION</td>\n",
       "      <td>C</td>\n",
       "      <td>TALA</td>\n",
       "      <td>7705.711806</td>\n",
       "      <td>SIN_ESTUDIOS</td>\n",
       "      <td>MASCULINO</td>\n",
       "      <td></td>\n",
       "    </tr>\n",
       "  </tbody>\n",
       "</table>\n",
       "</div>"
      ],
      "text/plain": [
       "    FECHA DE INGRESO FECHA DE BAJA Estatus  Días Laborados  \\\n",
       "499       2021-12-13           NaT  activo             NaN   \n",
       "500       2022-09-26           NaT  activo             NaN   \n",
       "501       2022-03-23           NaT  activo             NaN   \n",
       "\n",
       "    FECHA DE NACIMIENTO No de Crédito Infonavit         PUESTO        AREA  \\\n",
       "499 1991-01-23 06:10:00                      NO  OP PRODUCCION  PRODUCCION   \n",
       "500 1991-01-23 06:10:00                      SI  OP PRODUCCION  PRODUCCION   \n",
       "501 1991-01-23 06:10:00                      NO  OP PRODUCCION  PRODUCCION   \n",
       "\n",
       "    TURNO MUNICIPIO  SALARIO MENSUAL   ESCOLARIDAD     GENERO Tipo de renuncia  \n",
       "499     C      TALA      7705.711806  SIN_ESTUDIOS   FEMENINO                   \n",
       "500     A      TALA      7705.711806  SIN_ESTUDIOS   FEMENINO                   \n",
       "501     C      TALA      7705.711806  SIN_ESTUDIOS  MASCULINO                   "
      ]
     },
     "execution_count": 116,
     "metadata": {},
     "output_type": "execute_result"
    }
   ],
   "source": [
    "# Resultado final de limpieza de datos\n",
    "\n",
    "df.tail(3)"
   ]
  },
  {
   "cell_type": "code",
   "execution_count": 118,
   "metadata": {},
   "outputs": [
    {
     "data": {
      "text/plain": [
       "FECHA DE INGRESO           233\n",
       "FECHA DE BAJA              249\n",
       "Estatus                      2\n",
       "Días Laborados             134\n",
       "FECHA DE NACIMIENTO        278\n",
       "No de Crédito Infonavit      2\n",
       "PUESTO                       6\n",
       "AREA                         5\n",
       "TURNO                        4\n",
       "MUNICIPIO                   11\n",
       "SALARIO MENSUAL             22\n",
       "ESCOLARIDAD                 12\n",
       "GENERO                       2\n",
       "Tipo de renuncia             4\n",
       "dtype: int64"
      ]
     },
     "execution_count": 118,
     "metadata": {},
     "output_type": "execute_result"
    }
   ],
   "source": [
    "# Resultado final de limpieza de \n",
    "\n",
    "df.nunique()"
   ]
  },
  {
   "cell_type": "markdown",
   "metadata": {},
   "source": [
    "### 4. Visualización de datos"
   ]
  },
  {
   "cell_type": "code",
   "execution_count": 26,
   "metadata": {},
   "outputs": [
    {
     "data": {
      "text/html": [
       "<div>\n",
       "<style scoped>\n",
       "    .dataframe tbody tr th:only-of-type {\n",
       "        vertical-align: middle;\n",
       "    }\n",
       "\n",
       "    .dataframe tbody tr th {\n",
       "        vertical-align: top;\n",
       "    }\n",
       "\n",
       "    .dataframe thead th {\n",
       "        text-align: right;\n",
       "    }\n",
       "</style>\n",
       "<table border=\"1\" class=\"dataframe\">\n",
       "  <thead>\n",
       "    <tr style=\"text-align: right;\">\n",
       "      <th>Estatus</th>\n",
       "      <th>activo</th>\n",
       "      <th>baja</th>\n",
       "    </tr>\n",
       "    <tr>\n",
       "      <th>AREA</th>\n",
       "      <th></th>\n",
       "      <th></th>\n",
       "    </tr>\n",
       "  </thead>\n",
       "  <tbody>\n",
       "    <tr>\n",
       "      <th>ALMACEN</th>\n",
       "      <td>0.204545</td>\n",
       "      <td>0.795455</td>\n",
       "    </tr>\n",
       "    <tr>\n",
       "      <th>CALIDAD</th>\n",
       "      <td>0.227273</td>\n",
       "      <td>0.772727</td>\n",
       "    </tr>\n",
       "    <tr>\n",
       "      <th>MANTENIMIENTO</th>\n",
       "      <td>0.100000</td>\n",
       "      <td>0.900000</td>\n",
       "    </tr>\n",
       "    <tr>\n",
       "      <th>PRENSA</th>\n",
       "      <td>0.038961</td>\n",
       "      <td>0.961039</td>\n",
       "    </tr>\n",
       "    <tr>\n",
       "      <th>PRODUCCION</th>\n",
       "      <td>0.183824</td>\n",
       "      <td>0.816176</td>\n",
       "    </tr>\n",
       "  </tbody>\n",
       "</table>\n",
       "</div>"
      ],
      "text/plain": [
       "Estatus          activo      baja\n",
       "AREA                             \n",
       "ALMACEN        0.204545  0.795455\n",
       "CALIDAD        0.227273  0.772727\n",
       "MANTENIMIENTO  0.100000  0.900000\n",
       "PRENSA         0.038961  0.961039\n",
       "PRODUCCION     0.183824  0.816176"
      ]
     },
     "execution_count": 26,
     "metadata": {},
     "output_type": "execute_result"
    }
   ],
   "source": [
    "# Crosstab of percentage of active and non active against area\n",
    "table = pd.crosstab(df_0_0.AREA, df_0_0.Estatus)\n",
    "table\n",
    "table.div(table.sum(axis=1).astype(float), axis=0)"
   ]
  },
  {
   "cell_type": "code",
   "execution_count": 27,
   "metadata": {},
   "outputs": [
    {
     "data": {
      "text/html": [
       "<div>\n",
       "<style scoped>\n",
       "    .dataframe tbody tr th:only-of-type {\n",
       "        vertical-align: middle;\n",
       "    }\n",
       "\n",
       "    .dataframe tbody tr th {\n",
       "        vertical-align: top;\n",
       "    }\n",
       "\n",
       "    .dataframe thead th {\n",
       "        text-align: right;\n",
       "    }\n",
       "</style>\n",
       "<table border=\"1\" class=\"dataframe\">\n",
       "  <thead>\n",
       "    <tr style=\"text-align: right;\">\n",
       "      <th></th>\n",
       "      <th>Estatus</th>\n",
       "      <th>PUESTO</th>\n",
       "      <th>AREA</th>\n",
       "      <th>TURNO</th>\n",
       "      <th>MUNICIPIO</th>\n",
       "      <th>ESCOLARIDAD</th>\n",
       "      <th>GENERO</th>\n",
       "    </tr>\n",
       "  </thead>\n",
       "  <tbody>\n",
       "    <tr>\n",
       "      <th>count</th>\n",
       "      <td>502</td>\n",
       "      <td>502</td>\n",
       "      <td>502</td>\n",
       "      <td>502</td>\n",
       "      <td>502</td>\n",
       "      <td>502</td>\n",
       "      <td>502</td>\n",
       "    </tr>\n",
       "    <tr>\n",
       "      <th>unique</th>\n",
       "      <td>2</td>\n",
       "      <td>7</td>\n",
       "      <td>5</td>\n",
       "      <td>4</td>\n",
       "      <td>13</td>\n",
       "      <td>12</td>\n",
       "      <td>2</td>\n",
       "    </tr>\n",
       "    <tr>\n",
       "      <th>top</th>\n",
       "      <td>baja</td>\n",
       "      <td>OP PRODUCCION</td>\n",
       "      <td>PRODUCCION</td>\n",
       "      <td>C</td>\n",
       "      <td>TALA</td>\n",
       "      <td>SECUNDARIA</td>\n",
       "      <td>FEMENINO</td>\n",
       "    </tr>\n",
       "    <tr>\n",
       "      <th>freq</th>\n",
       "      <td>431</td>\n",
       "      <td>268</td>\n",
       "      <td>272</td>\n",
       "      <td>200</td>\n",
       "      <td>465</td>\n",
       "      <td>210</td>\n",
       "      <td>266</td>\n",
       "    </tr>\n",
       "  </tbody>\n",
       "</table>\n",
       "</div>"
      ],
      "text/plain": [
       "       Estatus         PUESTO        AREA TURNO MUNICIPIO ESCOLARIDAD  \\\n",
       "count      502            502         502   502       502         502   \n",
       "unique       2              7           5     4        13          12   \n",
       "top       baja  OP PRODUCCION  PRODUCCION     C      TALA  SECUNDARIA   \n",
       "freq       431            268         272   200       465         210   \n",
       "\n",
       "          GENERO  \n",
       "count        502  \n",
       "unique         2  \n",
       "top     FEMENINO  \n",
       "freq         266  "
      ]
     },
     "execution_count": 27,
     "metadata": {},
     "output_type": "execute_result"
    }
   ],
   "source": [
    "df_0_0.describe()"
   ]
  },
  {
   "cell_type": "markdown",
   "metadata": {},
   "source": [
    "#### Frequency tables"
   ]
  },
  {
   "cell_type": "code",
   "execution_count": 28,
   "metadata": {},
   "outputs": [
    {
     "data": {
      "image/png": "[encoded data removed]",
      "text/plain": [
       "<Figure size 640x480 with 1 Axes>"
      ]
     },
     "metadata": {},
     "output_type": "display_data"
    }
   ],
   "source": [
    "table = pd.crosstab(df_0_0.AREA, df_0_0.Estatus)\n",
    "table.div(table.sum(axis=1).astype(float), axis=0).plot(kind='bar', stacked = True)\n",
    "plt.title('Frecuencia de baja por puesto')\n",
    "plt.ylabel('Frecuencia')\n",
    "plt.xlabel('Puesto')\n",
    "plt.show()"
   ]
  },
  {
   "cell_type": "code",
   "execution_count": 29,
   "metadata": {},
   "outputs": [
    {
     "data": {
      "image/png": "[encoded data removed]",
      "text/plain": [
       "<Figure size 640x480 with 1 Axes>"
      ]
     },
     "metadata": {},
     "output_type": "display_data"
    }
   ],
   "source": [
    "table = pd.crosstab(df_0_0.TURNO, df_0_0.Estatus)\n",
    "table.div(table.sum(axis=1).astype(float), axis=0).plot(kind='bar', stacked = True)\n",
    "plt.title('Frecuencia de baja por turno')\n",
    "plt.ylabel('Frecuencia')\n",
    "plt.xlabel('Turno')\n",
    "plt.show()"
   ]
  },
  {
   "cell_type": "code",
   "execution_count": 30,
   "metadata": {},
   "outputs": [
    {
     "data": {
      "image/png": "[encoded data removed]",
      "text/plain": [
       "<Figure size 640x480 with 1 Axes>"
      ]
     },
     "metadata": {},
     "output_type": "display_data"
    }
   ],
   "source": [
    "table = pd.crosstab(df_0_0.ESCOLARIDAD, df_0.Estatus)\n",
    "table.div(table.sum(axis=1).astype(float), axis=0).plot(kind='bar', stacked = True)\n",
    "plt.title('Frecuencia baja por escolaridad')\n",
    "plt.ylabel('Frecuencia')\n",
    "plt.xlabel('Escolaridad')\n",
    "plt.show()"
   ]
  },
  {
   "cell_type": "code",
   "execution_count": 33,
   "metadata": {},
   "outputs": [
    {
     "data": {
      "image/png": "[encoded data removed]",
      "text/plain": [
       "<Figure size 640x480 with 1 Axes>"
      ]
     },
     "metadata": {},
     "output_type": "display_data"
    }
   ],
   "source": [
    "table = pd.crosstab(df_0_0.GENERO, df_0.Estatus)\n",
    "table.div(table.sum(axis=1).astype(float), axis=0).plot(kind='bar', stacked = True)\n",
    "plt.title('Frecuencia de genero')\n",
    "plt.ylabel('Frecuencia')\n",
    "plt.xlabel('Genero')\n",
    "plt.show()"
   ]
  },
  {
   "cell_type": "code",
   "execution_count": 34,
   "metadata": {},
   "outputs": [
    {
     "data": {
      "image/png": "[encoded data removed]",
      "text/plain": [
       "<Figure size 640x480 with 1 Axes>"
      ]
     },
     "metadata": {},
     "output_type": "display_data"
    }
   ],
   "source": [
    "table = pd.crosstab(df_0.PUESTO, df_0.Estatus)\n",
    "table.div(table.sum(axis=1).astype(float), axis=0).plot(kind='bar', stacked = True)\n",
    "plt.title('Frecuencia de contacto')\n",
    "plt.ylabel('Frecuencia')\n",
    "plt.xlabel('Medio de contacto')\n",
    "plt.show()"
   ]
  },
  {
   "cell_type": "markdown",
   "metadata": {},
   "source": [
    "#### Distribution of target variable"
   ]
  },
  {
   "cell_type": "code",
   "execution_count": 35,
   "metadata": {},
   "outputs": [
    {
     "data": {
      "application/vnd.plotly.v1+json": {
       "config": {
        "plotlyServerURL": "https://plot.ly"
       },
       "data": [
        {
         "hoverinfo": "label+percent",
         "labels": [
          "baja",
          "activo"
         ],
         "marker": {
          "colors": [
           "gold",
           "mediumturquoise"
          ],
          "line": {
           "color": "#000000",
           "width": 2
          }
         },
         "textfont": {
          "size": 20
         },
         "textinfo": "value",
         "type": "pie",
         "values": [
          431,
          71
         ]
        }
       ],
       "layout": {
        "template": {
         "data": {
          "bar": [
           {
            "error_x": {
             "color": "#2a3f5f"
            },
            "error_y": {
             "color": "#2a3f5f"
            },
            "marker": {
             "line": {
              "color": "#E5ECF6",
              "width": 0.5
             },
             "pattern": {
              "fillmode": "overlay",
              "size": 10,
              "solidity": 0.2
             }
            },
            "type": "bar"
           }
          ],
          "barpolar": [
           {
            "marker": {
             "line": {
              "color": "#E5ECF6",
              "width": 0.5
             },
             "pattern": {
              "fillmode": "overlay",
              "size": 10,
              "solidity": 0.2
             }
            },
            "type": "barpolar"
           }
          ],
          "carpet": [
           {
            "aaxis": {
             "endlinecolor": "#2a3f5f",
             "gridcolor": "white",
             "linecolor": "white",
             "minorgridcolor": "white",
             "startlinecolor": "#2a3f5f"
            },
            "baxis": {
             "endlinecolor": "#2a3f5f",
             "gridcolor": "white",
             "linecolor": "white",
             "minorgridcolor": "white",
             "startlinecolor": "#2a3f5f"
            },
            "type": "carpet"
           }
          ],
          "choropleth": [
           {
            "colorbar": {
             "outlinewidth": 0,
             "ticks": ""
            },
            "type": "choropleth"
           }
          ],
          "contour": [
           {
            "colorbar": {
             "outlinewidth": 0,
             "ticks": ""
            },
            "colorscale": [
             [
              0,
              "#0d0887"
             ],
             [
              0.1111111111111111,
              "#46039f"
             ],
             [
              0.2222222222222222,
              "#7201a8"
             ],
             [
              0.3333333333333333,
              "#9c179e"
             ],
             [
              0.4444444444444444,
              "#bd3786"
             ],
             [
              0.5555555555555556,
              "#d8576b"
             ],
             [
              0.6666666666666666,
              "#ed7953"
             ],
             [
              0.7777777777777778,
              "#fb9f3a"
             ],
             [
              0.8888888888888888,
              "#fdca26"
             ],
             [
              1,
              "#f0f921"
             ]
            ],
            "type": "contour"
           }
          ],
          "contourcarpet": [
           {
            "colorbar": {
             "outlinewidth": 0,
             "ticks": ""
            },
            "type": "contourcarpet"
           }
          ],
          "heatmap": [
           {
            "colorbar": {
             "outlinewidth": 0,
             "ticks": ""
            },
            "colorscale": [
             [
              0,
              "#0d0887"
             ],
             [
              0.1111111111111111,
              "#46039f"
             ],
             [
              0.2222222222222222,
              "#7201a8"
             ],
             [
              0.3333333333333333,
              "#9c179e"
             ],
             [
              0.4444444444444444,
              "#bd3786"
             ],
             [
              0.5555555555555556,
              "#d8576b"
             ],
             [
              0.6666666666666666,
              "#ed7953"
             ],
             [
              0.7777777777777778,
              "#fb9f3a"
             ],
             [
              0.8888888888888888,
              "#fdca26"
             ],
             [
              1,
              "#f0f921"
             ]
            ],
            "type": "heatmap"
           }
          ],
          "heatmapgl": [
           {
            "colorbar": {
             "outlinewidth": 0,
             "ticks": ""
            },
            "colorscale": [
             [
              0,
              "#0d0887"
             ],
             [
              0.1111111111111111,
              "#46039f"
             ],
             [
              0.2222222222222222,
              "#7201a8"
             ],
             [
              0.3333333333333333,
              "#9c179e"
             ],
             [
              0.4444444444444444,
              "#bd3786"
             ],
             [
              0.5555555555555556,
              "#d8576b"
             ],
             [
              0.6666666666666666,
              "#ed7953"
             ],
             [
              0.7777777777777778,
              "#fb9f3a"
             ],
             [
              0.8888888888888888,
              "#fdca26"
             ],
             [
              1,
              "#f0f921"
             ]
            ],
            "type": "heatmapgl"
           }
          ],
          "histogram": [
           {
            "marker": {
             "pattern": {
              "fillmode": "overlay",
              "size": 10,
              "solidity": 0.2
             }
            },
            "type": "histogram"
           }
          ],
          "histogram2d": [
           {
            "colorbar": {
             "outlinewidth": 0,
             "ticks": ""
            },
            "colorscale": [
             [
              0,
              "#0d0887"
             ],
             [
              0.1111111111111111,
              "#46039f"
             ],
             [
              0.2222222222222222,
              "#7201a8"
             ],
             [
              0.3333333333333333,
              "#9c179e"
             ],
             [
              0.4444444444444444,
              "#bd3786"
             ],
             [
              0.5555555555555556,
              "#d8576b"
             ],
             [
              0.6666666666666666,
              "#ed7953"
             ],
             [
              0.7777777777777778,
              "#fb9f3a"
             ],
             [
              0.8888888888888888,
              "#fdca26"
             ],
             [
              1,
              "#f0f921"
             ]
            ],
            "type": "histogram2d"
           }
          ],
          "histogram2dcontour": [
           {
            "colorbar": {
             "outlinewidth": 0,
             "ticks": ""
            },
            "colorscale": [
             [
              0,
              "#0d0887"
             ],
             [
              0.1111111111111111,
              "#46039f"
             ],
             [
              0.2222222222222222,
              "#7201a8"
             ],
             [
              0.3333333333333333,
              "#9c179e"
             ],
             [
              0.4444444444444444,
              "#bd3786"
             ],
             [
              0.5555555555555556,
              "#d8576b"
             ],
             [
              0.6666666666666666,
              "#ed7953"
             ],
             [
              0.7777777777777778,
              "#fb9f3a"
             ],
             [
              0.8888888888888888,
              "#fdca26"
             ],
             [
              1,
              "#f0f921"
             ]
            ],
            "type": "histogram2dcontour"
           }
          ],
          "mesh3d": [
           {
            "colorbar": {
             "outlinewidth": 0,
             "ticks": ""
            },
            "type": "mesh3d"
           }
          ],
          "parcoords": [
           {
            "line": {
             "colorbar": {
              "outlinewidth": 0,
              "ticks": ""
             }
            },
            "type": "parcoords"
           }
          ],
          "pie": [
           {
            "automargin": true,
            "type": "pie"
           }
          ],
          "scatter": [
           {
            "fillpattern": {
             "fillmode": "overlay",
             "size": 10,
             "solidity": 0.2
            },
            "type": "scatter"
           }
          ],
          "scatter3d": [
           {
            "line": {
             "colorbar": {
              "outlinewidth": 0,
              "ticks": ""
             }
            },
            "marker": {
             "colorbar": {
              "outlinewidth": 0,
              "ticks": ""
             }
            },
            "type": "scatter3d"
           }
          ],
          "scattercarpet": [
           {
            "marker": {
             "colorbar": {
              "outlinewidth": 0,
              "ticks": ""
             }
            },
            "type": "scattercarpet"
           }
          ],
          "scattergeo": [
           {
            "marker": {
             "colorbar": {
              "outlinewidth": 0,
              "ticks": ""
             }
            },
            "type": "scattergeo"
           }
          ],
          "scattergl": [
           {
            "marker": {
             "colorbar": {
              "outlinewidth": 0,
              "ticks": ""
             }
            },
            "type": "scattergl"
           }
          ],
          "scattermapbox": [
           {
            "marker": {
             "colorbar": {
              "outlinewidth": 0,
              "ticks": ""
             }
            },
            "type": "scattermapbox"
           }
          ],
          "scatterpolar": [
           {
            "marker": {
             "colorbar": {
              "outlinewidth": 0,
              "ticks": ""
             }
            },
            "type": "scatterpolar"
           }
          ],
          "scatterpolargl": [
           {
            "marker": {
             "colorbar": {
              "outlinewidth": 0,
              "ticks": ""
             }
            },
            "type": "scatterpolargl"
           }
          ],
          "scatterternary": [
           {
            "marker": {
             "colorbar": {
              "outlinewidth": 0,
              "ticks": ""
             }
            },
            "type": "scatterternary"
           }
          ],
          "surface": [
           {
            "colorbar": {
             "outlinewidth": 0,
             "ticks": ""
            },
            "colorscale": [
             [
              0,
              "#0d0887"
             ],
             [
              0.1111111111111111,
              "#46039f"
             ],
             [
              0.2222222222222222,
              "#7201a8"
             ],
             [
              0.3333333333333333,
              "#9c179e"
             ],
             [
              0.4444444444444444,
              "#bd3786"
             ],
             [
              0.5555555555555556,
              "#d8576b"
             ],
             [
              0.6666666666666666,
              "#ed7953"
             ],
             [
              0.7777777777777778,
              "#fb9f3a"
             ],
             [
              0.8888888888888888,
              "#fdca26"
             ],
             [
              1,
              "#f0f921"
             ]
            ],
            "type": "surface"
           }
          ],
          "table": [
           {
            "cells": {
             "fill": {
              "color": "#EBF0F8"
             },
             "line": {
              "color": "white"
             }
            },
            "header": {
             "fill": {
              "color": "#C8D4E3"
             },
             "line": {
              "color": "white"
             }
            },
            "type": "table"
           }
          ]
         },
         "layout": {
          "annotationdefaults": {
           "arrowcolor": "#2a3f5f",
           "arrowhead": 0,
           "arrowwidth": 1
          },
          "autotypenumbers": "strict",
          "coloraxis": {
           "colorbar": {
            "outlinewidth": 0,
            "ticks": ""
           }
          },
          "colorscale": {
           "diverging": [
            [
             0,
             "#8e0152"
            ],
            [
             0.1,
             "#c51b7d"
            ],
            [
             0.2,
             "#de77ae"
            ],
            [
             0.3,
             "#f1b6da"
            ],
            [
             0.4,
             "#fde0ef"
            ],
            [
             0.5,
             "#f7f7f7"
            ],
            [
             0.6,
             "#e6f5d0"
            ],
            [
             0.7,
             "#b8e186"
            ],
            [
             0.8,
             "#7fbc41"
            ],
            [
             0.9,
             "#4d9221"
            ],
            [
             1,
             "#276419"
            ]
           ],
           "sequential": [
            [
             0,
             "#0d0887"
            ],
            [
             0.1111111111111111,
             "#46039f"
            ],
            [
             0.2222222222222222,
             "#7201a8"
            ],
            [
             0.3333333333333333,
             "#9c179e"
            ],
            [
             0.4444444444444444,
             "#bd3786"
            ],
            [
             0.5555555555555556,
             "#d8576b"
            ],
            [
             0.6666666666666666,
             "#ed7953"
            ],
            [
             0.7777777777777778,
             "#fb9f3a"
            ],
            [
             0.8888888888888888,
             "#fdca26"
            ],
            [
             1,
             "#f0f921"
            ]
           ],
           "sequentialminus": [
            [
             0,
             "#0d0887"
            ],
            [
             0.1111111111111111,
             "#46039f"
            ],
            [
             0.2222222222222222,
             "#7201a8"
            ],
            [
             0.3333333333333333,
             "#9c179e"
            ],
            [
             0.4444444444444444,
             "#bd3786"
            ],
            [
             0.5555555555555556,
             "#d8576b"
            ],
            [
             0.6666666666666666,
             "#ed7953"
            ],
            [
             0.7777777777777778,
             "#fb9f3a"
            ],
            [
             0.8888888888888888,
             "#fdca26"
            ],
            [
             1,
             "#f0f921"
            ]
           ]
          },
          "colorway": [
           "#636efa",
           "#EF553B",
           "#00cc96",
           "#ab63fa",
           "#FFA15A",
           "#19d3f3",
           "#FF6692",
           "#B6E880",
           "#FF97FF",
           "#FECB52"
          ],
          "font": {
           "color": "#2a3f5f"
          },
          "geo": {
           "bgcolor": "white",
           "lakecolor": "white",
           "landcolor": "#E5ECF6",
           "showlakes": true,
           "showland": true,
           "subunitcolor": "white"
          },
          "hoverlabel": {
           "align": "left"
          },
          "hovermode": "closest",
          "mapbox": {
           "style": "light"
          },
          "paper_bgcolor": "white",
          "plot_bgcolor": "#E5ECF6",
          "polar": {
           "angularaxis": {
            "gridcolor": "white",
            "linecolor": "white",
            "ticks": ""
           },
           "bgcolor": "#E5ECF6",
           "radialaxis": {
            "gridcolor": "white",
            "linecolor": "white",
            "ticks": ""
           }
          },
          "scene": {
           "xaxis": {
            "backgroundcolor": "#E5ECF6",
            "gridcolor": "white",
            "gridwidth": 2,
            "linecolor": "white",
            "showbackground": true,
            "ticks": "",
            "zerolinecolor": "white"
           },
           "yaxis": {
            "backgroundcolor": "#E5ECF6",
            "gridcolor": "white",
            "gridwidth": 2,
            "linecolor": "white",
            "showbackground": true,
            "ticks": "",
            "zerolinecolor": "white"
           },
           "zaxis": {
            "backgroundcolor": "#E5ECF6",
            "gridcolor": "white",
            "gridwidth": 2,
            "linecolor": "white",
            "showbackground": true,
            "ticks": "",
            "zerolinecolor": "white"
           }
          },
          "shapedefaults": {
           "line": {
            "color": "#2a3f5f"
           }
          },
          "ternary": {
           "aaxis": {
            "gridcolor": "white",
            "linecolor": "white",
            "ticks": ""
           },
           "baxis": {
            "gridcolor": "white",
            "linecolor": "white",
            "ticks": ""
           },
           "bgcolor": "#E5ECF6",
           "caxis": {
            "gridcolor": "white",
            "linecolor": "white",
            "ticks": ""
           }
          },
          "title": {
           "x": 0.05
          },
          "xaxis": {
           "automargin": true,
           "gridcolor": "white",
           "linecolor": "white",
           "ticks": "",
           "title": {
            "standoff": 15
           },
           "zerolinecolor": "white",
           "zerolinewidth": 2
          },
          "yaxis": {
           "automargin": true,
           "gridcolor": "white",
           "linecolor": "white",
           "ticks": "",
           "title": {
            "standoff": 15
           },
           "zerolinecolor": "white",
           "zerolinewidth": 2
          }
         }
        }
       }
      },
      "text/html": [
       "<div>                            <div id=\"150dcfff-ed73-4405-b862-82432c84975f\" class=\"plotly-graph-div\" style=\"height:525px; width:100%;\"></div>            <script type=\"text/javascript\">                require([\"plotly\"], function(Plotly) {                    window.PLOTLYENV=window.PLOTLYENV || {};                                    if (document.getElementById(\"150dcfff-ed73-4405-b862-82432c84975f\")) {                    Plotly.newPlot(                        \"150dcfff-ed73-4405-b862-82432c84975f\",                        [{\"labels\":[\"baja\",\"activo\"],\"textinfo\":\"value\",\"values\":[431,71],\"type\":\"pie\",\"textfont\":{\"size\":20},\"marker\":{\"line\":{\"color\":\"#000000\",\"width\":2},\"colors\":[\"gold\",\"mediumturquoise\"]},\"hoverinfo\":\"label+percent\"}],                        {\"template\":{\"data\":{\"histogram2dcontour\":[{\"type\":\"histogram2dcontour\",\"colorbar\":{\"outlinewidth\":0,\"ticks\":\"\"},\"colorscale\":[[0.0,\"#0d0887\"],[0.1111111111111111,\"#46039f\"],[0.2222222222222222,\"#7201a8\"],[0.3333333333333333,\"#9c179e\"],[0.4444444444444444,\"#bd3786\"],[0.5555555555555556,\"#d8576b\"],[0.6666666666666666,\"#ed7953\"],[0.7777777777777778,\"#fb9f3a\"],[0.8888888888888888,\"#fdca26\"],[1.0,\"#f0f921\"]]}],\"choropleth\":[{\"type\":\"choropleth\",\"colorbar\":{\"outlinewidth\":0,\"ticks\":\"\"}}],\"histogram2d\":[{\"type\":\"histogram2d\",\"colorbar\":{\"outlinewidth\":0,\"ticks\":\"\"},\"colorscale\":[[0.0,\"#0d0887\"],[0.1111111111111111,\"#46039f\"],[0.2222222222222222,\"#7201a8\"],[0.3333333333333333,\"#9c179e\"],[0.4444444444444444,\"#bd3786\"],[0.5555555555555556,\"#d8576b\"],[0.6666666666666666,\"#ed7953\"],[0.7777777777777778,\"#fb9f3a\"],[0.8888888888888888,\"#fdca26\"],[1.0,\"#f0f921\"]]}],\"heatmap\":[{\"type\":\"heatmap\",\"colorbar\":{\"outlinewidth\":0,\"ticks\":\"\"},\"colorscale\":[[0.0,\"#0d0887\"],[0.1111111111111111,\"#46039f\"],[0.2222222222222222,\"#7201a8\"],[0.3333333333333333,\"#9c179e\"],[0.4444444444444444,\"#bd3786\"],[0.5555555555555556,\"#d8576b\"],[0.6666666666666666,\"#ed7953\"],[0.7777777777777778,\"#fb9f3a\"],[0.8888888888888888,\"#fdca26\"],[1.0,\"#f0f921\"]]}],\"heatmapgl\":[{\"type\":\"heatmapgl\",\"colorbar\":{\"outlinewidth\":0,\"ticks\":\"\"},\"colorscale\":[[0.0,\"#0d0887\"],[0.1111111111111111,\"#46039f\"],[0.2222222222222222,\"#7201a8\"],[0.3333333333333333,\"#9c179e\"],[0.4444444444444444,\"#bd3786\"],[0.5555555555555556,\"#d8576b\"],[0.6666666666666666,\"#ed7953\"],[0.7777777777777778,\"#fb9f3a\"],[0.8888888888888888,\"#fdca26\"],[1.0,\"#f0f921\"]]}],\"contourcarpet\":[{\"type\":\"contourcarpet\",\"colorbar\":{\"outlinewidth\":0,\"ticks\":\"\"}}],\"contour\":[{\"type\":\"contour\",\"colorbar\":{\"outlinewidth\":0,\"ticks\":\"\"},\"colorscale\":[[0.0,\"#0d0887\"],[0.1111111111111111,\"#46039f\"],[0.2222222222222222,\"#7201a8\"],[0.3333333333333333,\"#9c179e\"],[0.4444444444444444,\"#bd3786\"],[0.5555555555555556,\"#d8576b\"],[0.6666666666666666,\"#ed7953\"],[0.7777777777777778,\"#fb9f3a\"],[0.8888888888888888,\"#fdca26\"],[1.0,\"#f0f921\"]]}],\"surface\":[{\"type\":\"surface\",\"colorbar\":{\"outlinewidth\":0,\"ticks\":\"\"},\"colorscale\":[[0.0,\"#0d0887\"],[0.1111111111111111,\"#46039f\"],[0.2222222222222222,\"#7201a8\"],[0.3333333333333333,\"#9c179e\"],[0.4444444444444444,\"#bd3786\"],[0.5555555555555556,\"#d8576b\"],[0.6666666666666666,\"#ed7953\"],[0.7777777777777778,\"#fb9f3a\"],[0.8888888888888888,\"#fdca26\"],[1.0,\"#f0f921\"]]}],\"mesh3d\":[{\"type\":\"mesh3d\",\"colorbar\":{\"outlinewidth\":0,\"ticks\":\"\"}}],\"scatter\":[{\"fillpattern\":{\"fillmode\":\"overlay\",\"size\":10,\"solidity\":0.2},\"type\":\"scatter\"}],\"parcoords\":[{\"type\":\"parcoords\",\"line\":{\"colorbar\":{\"outlinewidth\":0,\"ticks\":\"\"}}}],\"scatterpolargl\":[{\"type\":\"scatterpolargl\",\"marker\":{\"colorbar\":{\"outlinewidth\":0,\"ticks\":\"\"}}}],\"bar\":[{\"error_x\":{\"color\":\"#2a3f5f\"},\"error_y\":{\"color\":\"#2a3f5f\"},\"marker\":{\"line\":{\"color\":\"#E5ECF6\",\"width\":0.5},\"pattern\":{\"fillmode\":\"overlay\",\"size\":10,\"solidity\":0.2}},\"type\":\"bar\"}],\"scattergeo\":[{\"type\":\"scattergeo\",\"marker\":{\"colorbar\":{\"outlinewidth\":0,\"ticks\":\"\"}}}],\"scatterpolar\":[{\"type\":\"scatterpolar\",\"marker\":{\"colorbar\":{\"outlinewidth\":0,\"ticks\":\"\"}}}],\"histogram\":[{\"marker\":{\"pattern\":{\"fillmode\":\"overlay\",\"size\":10,\"solidity\":0.2}},\"type\":\"histogram\"}],\"scattergl\":[{\"type\":\"scattergl\",\"marker\":{\"colorbar\":{\"outlinewidth\":0,\"ticks\":\"\"}}}],\"scatter3d\":[{\"type\":\"scatter3d\",\"line\":{\"colorbar\":{\"outlinewidth\":0,\"ticks\":\"\"}},\"marker\":{\"colorbar\":{\"outlinewidth\":0,\"ticks\":\"\"}}}],\"scattermapbox\":[{\"type\":\"scattermapbox\",\"marker\":{\"colorbar\":{\"outlinewidth\":0,\"ticks\":\"\"}}}],\"scatterternary\":[{\"type\":\"scatterternary\",\"marker\":{\"colorbar\":{\"outlinewidth\":0,\"ticks\":\"\"}}}],\"scattercarpet\":[{\"type\":\"scattercarpet\",\"marker\":{\"colorbar\":{\"outlinewidth\":0,\"ticks\":\"\"}}}],\"carpet\":[{\"aaxis\":{\"endlinecolor\":\"#2a3f5f\",\"gridcolor\":\"white\",\"linecolor\":\"white\",\"minorgridcolor\":\"white\",\"startlinecolor\":\"#2a3f5f\"},\"baxis\":{\"endlinecolor\":\"#2a3f5f\",\"gridcolor\":\"white\",\"linecolor\":\"white\",\"minorgridcolor\":\"white\",\"startlinecolor\":\"#2a3f5f\"},\"type\":\"carpet\"}],\"table\":[{\"cells\":{\"fill\":{\"color\":\"#EBF0F8\"},\"line\":{\"color\":\"white\"}},\"header\":{\"fill\":{\"color\":\"#C8D4E3\"},\"line\":{\"color\":\"white\"}},\"type\":\"table\"}],\"barpolar\":[{\"marker\":{\"line\":{\"color\":\"#E5ECF6\",\"width\":0.5},\"pattern\":{\"fillmode\":\"overlay\",\"size\":10,\"solidity\":0.2}},\"type\":\"barpolar\"}],\"pie\":[{\"automargin\":true,\"type\":\"pie\"}]},\"layout\":{\"autotypenumbers\":\"strict\",\"colorway\":[\"#636efa\",\"#EF553B\",\"#00cc96\",\"#ab63fa\",\"#FFA15A\",\"#19d3f3\",\"#FF6692\",\"#B6E880\",\"#FF97FF\",\"#FECB52\"],\"font\":{\"color\":\"#2a3f5f\"},\"hovermode\":\"closest\",\"hoverlabel\":{\"align\":\"left\"},\"paper_bgcolor\":\"white\",\"plot_bgcolor\":\"#E5ECF6\",\"polar\":{\"bgcolor\":\"#E5ECF6\",\"angularaxis\":{\"gridcolor\":\"white\",\"linecolor\":\"white\",\"ticks\":\"\"},\"radialaxis\":{\"gridcolor\":\"white\",\"linecolor\":\"white\",\"ticks\":\"\"}},\"ternary\":{\"bgcolor\":\"#E5ECF6\",\"aaxis\":{\"gridcolor\":\"white\",\"linecolor\":\"white\",\"ticks\":\"\"},\"baxis\":{\"gridcolor\":\"white\",\"linecolor\":\"white\",\"ticks\":\"\"},\"caxis\":{\"gridcolor\":\"white\",\"linecolor\":\"white\",\"ticks\":\"\"}},\"coloraxis\":{\"colorbar\":{\"outlinewidth\":0,\"ticks\":\"\"}},\"colorscale\":{\"sequential\":[[0.0,\"#0d0887\"],[0.1111111111111111,\"#46039f\"],[0.2222222222222222,\"#7201a8\"],[0.3333333333333333,\"#9c179e\"],[0.4444444444444444,\"#bd3786\"],[0.5555555555555556,\"#d8576b\"],[0.6666666666666666,\"#ed7953\"],[0.7777777777777778,\"#fb9f3a\"],[0.8888888888888888,\"#fdca26\"],[1.0,\"#f0f921\"]],\"sequentialminus\":[[0.0,\"#0d0887\"],[0.1111111111111111,\"#46039f\"],[0.2222222222222222,\"#7201a8\"],[0.3333333333333333,\"#9c179e\"],[0.4444444444444444,\"#bd3786\"],[0.5555555555555556,\"#d8576b\"],[0.6666666666666666,\"#ed7953\"],[0.7777777777777778,\"#fb9f3a\"],[0.8888888888888888,\"#fdca26\"],[1.0,\"#f0f921\"]],\"diverging\":[[0,\"#8e0152\"],[0.1,\"#c51b7d\"],[0.2,\"#de77ae\"],[0.3,\"#f1b6da\"],[0.4,\"#fde0ef\"],[0.5,\"#f7f7f7\"],[0.6,\"#e6f5d0\"],[0.7,\"#b8e186\"],[0.8,\"#7fbc41\"],[0.9,\"#4d9221\"],[1,\"#276419\"]]},\"xaxis\":{\"gridcolor\":\"white\",\"linecolor\":\"white\",\"ticks\":\"\",\"title\":{\"standoff\":15},\"zerolinecolor\":\"white\",\"automargin\":true,\"zerolinewidth\":2},\"yaxis\":{\"gridcolor\":\"white\",\"linecolor\":\"white\",\"ticks\":\"\",\"title\":{\"standoff\":15},\"zerolinecolor\":\"white\",\"automargin\":true,\"zerolinewidth\":2},\"scene\":{\"xaxis\":{\"backgroundcolor\":\"#E5ECF6\",\"gridcolor\":\"white\",\"linecolor\":\"white\",\"showbackground\":true,\"ticks\":\"\",\"zerolinecolor\":\"white\",\"gridwidth\":2},\"yaxis\":{\"backgroundcolor\":\"#E5ECF6\",\"gridcolor\":\"white\",\"linecolor\":\"white\",\"showbackground\":true,\"ticks\":\"\",\"zerolinecolor\":\"white\",\"gridwidth\":2},\"zaxis\":{\"backgroundcolor\":\"#E5ECF6\",\"gridcolor\":\"white\",\"linecolor\":\"white\",\"showbackground\":true,\"ticks\":\"\",\"zerolinecolor\":\"white\",\"gridwidth\":2}},\"shapedefaults\":{\"line\":{\"color\":\"#2a3f5f\"}},\"annotationdefaults\":{\"arrowcolor\":\"#2a3f5f\",\"arrowhead\":0,\"arrowwidth\":1},\"geo\":{\"bgcolor\":\"white\",\"landcolor\":\"#E5ECF6\",\"subunitcolor\":\"white\",\"showland\":true,\"showlakes\":true,\"lakecolor\":\"white\"},\"title\":{\"x\":0.05},\"mapbox\":{\"style\":\"light\"}}}},                        {\"responsive\": true}                    ).then(function(){\n",
       "                            \n",
       "var gd = document.getElementById('150dcfff-ed73-4405-b862-82432c84975f');\n",
       "var x = new MutationObserver(function (mutations, observer) {{\n",
       "        var display = window.getComputedStyle(gd).display;\n",
       "        if (!display || display === 'none') {{\n",
       "            console.log([gd, 'removed!']);\n",
       "            Plotly.purge(gd);\n",
       "            observer.disconnect();\n",
       "        }}\n",
       "}});\n",
       "\n",
       "// Listen for the removal of the full notebook cells\n",
       "var notebookContainer = gd.closest('#notebook-container');\n",
       "if (notebookContainer) {{\n",
       "    x.observe(notebookContainer, {childList: true});\n",
       "}}\n",
       "\n",
       "// Listen for the clearing of the current output cell\n",
       "var outputEl = gd.closest('.output');\n",
       "if (outputEl) {{\n",
       "    x.observe(outputEl, {childList: true});\n",
       "}}\n",
       "\n",
       "                        })                };                });            </script>        </div>"
      ]
     },
     "metadata": {},
     "output_type": "display_data"
    }
   ],
   "source": [
    "fig = go.Figure(data=[go.Pie(labels=['baja','activo'], values=df_0['Estatus'].value_counts(), textinfo='label+percent')])\n",
    "fig.update_traces(hoverinfo='label+percent', textinfo='value', textfont_size=20,\n",
    "                  marker=dict(colors=['gold', 'mediumturquoise'], line=dict(color='#000000', width=2)))\n",
    "fig.show()"
   ]
  },
  {
   "cell_type": "markdown",
   "metadata": {},
   "source": [
    "### 5. Conclusions\n",
    " "
   ]
  },
  {
   "cell_type": "markdown",
   "metadata": {},
   "source": [
    "In general terms of this exercise, we can note that although RFE may not seem to make a significant difference in terms of accuracy and computation times, for larger datasets, it can be a great tool or for real-time data processing. Following that train of thought, and after observing the results, it would be proposed to use K Nearest Neighbors for large databases or real-time processing, and for smaller sets, logistic regression."
   ]
  }
 ],
 "metadata": {
  "kernelspec": {
   "display_name": "base",
   "language": "python",
   "name": "python3"
  },
  "language_info": {
   "codemirror_mode": {
    "name": "ipython",
    "version": 3
   },
   "file_extension": ".py",
   "mimetype": "text/x-python",
   "name": "python",
   "nbconvert_exporter": "python",
   "pygments_lexer": "ipython3",
   "version": "3.11.5"
  }
 },
 "nbformat": 4,
 "nbformat_minor": 2
}
